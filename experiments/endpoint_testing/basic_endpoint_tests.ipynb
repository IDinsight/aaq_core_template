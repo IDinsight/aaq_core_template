{
 "cells": [
  {
   "cell_type": "markdown",
   "metadata": {},
   "source": [
    "> Note: Open notebook with aaq_template environment as the Kernel."
   ]
  },
  {
   "cell_type": "code",
   "execution_count": null,
   "metadata": {},
   "outputs": [],
   "source": [
    "!pip install requests"
   ]
  },
  {
   "cell_type": "code",
   "execution_count": null,
   "metadata": {},
   "outputs": [],
   "source": [
    "import requests\n",
    "import os"
   ]
  },
  {
   "cell_type": "markdown",
   "metadata": {},
   "source": [
    "## Import environment variables\n",
    "\n",
    "Make sure the following is placed into the conda env file below: \n",
    "\n",
    "`[conda install path]/miniconda3/envs/aaq_template/etc/conda/activate.d/env_vars.sh`"
   ]
  },
  {
   "cell_type": "code",
   "execution_count": null,
   "metadata": {},
   "outputs": [],
   "source": [
    "# Bearer token for authentication\n",
    "INBOUND_CHECK_TOKEN = os.getenv(\"INBOUND_CHECK_TOKEN\")\n",
    "\n",
    "# Hosts\n",
    "local_host = os.getenv(\"LOCAL_HOST\")        # mc_core local\n",
    "dev_host = os.getenv(\"DEV_HOST\")            # mc_core dev\n",
    "staging_host = os.getenv(\"STAGING_HOST\")    # mc_core staging"
   ]
  },
  {
   "cell_type": "markdown",
   "metadata": {},
   "source": [
    "Set host to use for notebook:"
   ]
  },
  {
   "cell_type": "code",
   "execution_count": null,
   "metadata": {},
   "outputs": [],
   "source": [
    "host = staging_host\n",
    "bearer_token = \"Bearer \" + INBOUND_CHECK_TOKEN"
   ]
  },
  {
   "cell_type": "markdown",
   "metadata": {},
   "source": [
    "# inbound/check\n",
    "Variables from this cell will be used for the other two endpoints"
   ]
  },
  {
   "cell_type": "code",
   "execution_count": null,
   "metadata": {},
   "outputs": [],
   "source": [
    "# Test the check endpoint\n",
    "response = requests.post(\n",
    "    host + \"/inbound/check\",\n",
    "    json={\"text_to_match\": \"test message\"},\n",
    "    headers={\"Authorization\": bearer_token},\n",
    ")\n",
    "\n",
    "# store info from response\n",
    "top_response = response.json()[\"top_responses\"][0][0]\n",
    "# for feedback endpoint\n",
    "inbound_id = response.json()[\"inbound_id\"]\n",
    "feedback_secret_key = response.json()[\"feedback_secret_key\"]\n",
    "# for pagination endpoint (also inbound_id above)\n",
    "inbound_secret_key = response.json()[\"inbound_secret_key\"]\n",
    "initial_next_page_url = response.json()[\"next_page_url\"]\n",
    "\n",
    "# print results\n",
    "print(\"top response:\", top_response)\n",
    "print(\"check endpoint response time (s):\", response.elapsed.total_seconds())"
   ]
  },
  {
   "cell_type": "code",
   "execution_count": null,
   "metadata": {},
   "outputs": [],
   "source": [
    "# response.json()"
   ]
  },
  {
   "cell_type": "markdown",
   "metadata": {},
   "source": [
    "# inbound/feedback"
   ]
  },
  {
   "cell_type": "code",
   "execution_count": null,
   "metadata": {},
   "outputs": [],
   "source": [
    "# Simple function to test the feedback endpoint\n",
    "def feedback_endpoint_test(inbound_id, feedback_secret_key, feedback):\n",
    "\n",
    "    feedback_response = requests.put(\n",
    "        host + \"/inbound/feedback\",\n",
    "        json={\n",
    "            \"inbound_id\": inbound_id,\n",
    "            \"feedback_secret_key\": feedback_secret_key,\n",
    "            \"feedback\": feedback,\n",
    "        },\n",
    "        headers={\"Authorization\": bearer_token},\n",
    "    )\n",
    "\n",
    "    print(\"Feedback call response:\", feedback_response.text)\n",
    "    print(\"Feedback endpoint response time (s):\", response.elapsed.total_seconds())"
   ]
  },
  {
   "cell_type": "code",
   "execution_count": null,
   "metadata": {},
   "outputs": [],
   "source": [
    "# correct information\n",
    "feedback_endpoint_test(\n",
    "    inbound_id=inbound_id,\n",
    "    feedback_secret_key=feedback_secret_key,\n",
    "    feedback={\"feedback_type\": \"positive\", \"faq_id\": 0}, #or \"page_number\": 0. See below.\n",
    ")"
   ]
  },
  {
   "cell_type": "code",
   "execution_count": null,
   "metadata": {},
   "outputs": [],
   "source": [
    "# correct information\n",
    "feedback_endpoint_test(\n",
    "    inbound_id=inbound_id,\n",
    "    feedback_secret_key=feedback_secret_key,\n",
    "    feedback={\"feedback_type\": \"positive\", \"page_number\": 0},\n",
    ")"
   ]
  },
  {
   "cell_type": "code",
   "execution_count": null,
   "metadata": {},
   "outputs": [],
   "source": [
    "# incorrect feedback format\n",
    "feedback_endpoint_test(\n",
    "    inbound_id=inbound_id, feedback_secret_key=feedback_secret_key, feedback=\"Gold Star\"\n",
    ")"
   ]
  },
  {
   "cell_type": "code",
   "execution_count": null,
   "metadata": {},
   "outputs": [],
   "source": [
    "# incorrect inbound_id\n",
    "feedback_endpoint_test(\n",
    "    inbound_id=0,\n",
    "    feedback_secret_key=feedback_secret_key,\n",
    "    feedback={\"feedback_type\": \"positive\", \"faq_id\": 0}, # or \"page_number\": 0\n",
    ")"
   ]
  },
  {
   "cell_type": "code",
   "execution_count": null,
   "metadata": {},
   "outputs": [],
   "source": [
    "# incorrect feedback_secret_key\n",
    "feedback_endpoint_test(\n",
    "    inbound_id=inbound_id,\n",
    "    feedback_secret_key=\"abcdefg\",\n",
    "    feedback={\"feedback_type\": \"positive\", \"faq_id\": 0}, # or \"page_number\": 0\n",
    ")"
   ]
  },
  {
   "cell_type": "markdown",
   "metadata": {},
   "source": [
    "# Test pagination \n",
    "#### inbound/inbound_id/page_number"
   ]
  },
  {
   "cell_type": "markdown",
   "metadata": {},
   "source": [
    "There are two approaches here:\n",
    "1. Jumping to a page using the page number\n",
    "2. Using the next and previous page urls returned by each call to flip through pages"
   ]
  },
  {
   "cell_type": "markdown",
   "metadata": {},
   "source": [
    "## Jump-to-page"
   ]
  },
  {
   "cell_type": "code",
   "execution_count": null,
   "metadata": {},
   "outputs": [],
   "source": [
    "# Simple function to jump to a page and return content\n",
    "def jump_to_page(page_number, inbound_secret_key):\n",
    "\n",
    "    # call\n",
    "    response = requests.get(\n",
    "        url=host + \"/inbound/\" + inbound_id + \"/\" + str(page_number),\n",
    "        params={\n",
    "            \"inbound_secret_key\": inbound_secret_key\n",
    "        },  #!# params, NOT json. Opposite of other endpoint. #!#\n",
    "        headers={\"Authorization\": bearer_token},\n",
    "    )\n",
    "\n",
    "    # show results\n",
    "    if response.status_code != 200:\n",
    "        print(\"Error:\", response.status_code, response.text)\n",
    "    else:\n",
    "        if response.json()[\"top_responses\"] == []:\n",
    "            print(\"No content.\")\n",
    "        else:\n",
    "            print(\"top response:\", response.json()[\"top_responses\"][0][0])\n",
    "        print(\"check endpoint response time (s):\", response.elapsed.total_seconds())\n",
    "        if \"prev_page_url\" in response.json():\n",
    "            print(\"Previous page url:\", \"found\")\n",
    "        if \"next_page_url\" in response.json():\n",
    "            print(\"Next page:\", \"found\")"
   ]
  },
  {
   "cell_type": "markdown",
   "metadata": {},
   "source": [
    "### Page 1 should match initial call response"
   ]
  },
  {
   "cell_type": "code",
   "execution_count": null,
   "metadata": {},
   "outputs": [],
   "source": [
    "jump_to_page(1, inbound_secret_key)"
   ]
  },
  {
   "cell_type": "markdown",
   "metadata": {},
   "source": [
    "### Page 2 should be different"
   ]
  },
  {
   "cell_type": "code",
   "execution_count": null,
   "metadata": {},
   "outputs": [],
   "source": [
    "jump_to_page(2, inbound_secret_key)"
   ]
  },
  {
   "cell_type": "markdown",
   "metadata": {},
   "source": [
    "### Go to non-existing page"
   ]
  },
  {
   "cell_type": "code",
   "execution_count": null,
   "metadata": {},
   "outputs": [],
   "source": [
    "jump_to_page(-1, inbound_secret_key)"
   ]
  },
  {
   "cell_type": "code",
   "execution_count": null,
   "metadata": {},
   "outputs": [],
   "source": [
    "jump_to_page(0, inbound_secret_key)"
   ]
  },
  {
   "cell_type": "code",
   "execution_count": null,
   "metadata": {},
   "outputs": [],
   "source": [
    "jump_to_page(999, inbound_secret_key)"
   ]
  },
  {
   "cell_type": "markdown",
   "metadata": {},
   "source": [
    "## Flip pages (next and previous)"
   ]
  },
  {
   "cell_type": "markdown",
   "metadata": {},
   "source": [
    "### Next page from initial call should be the same as page 2"
   ]
  },
  {
   "cell_type": "code",
   "execution_count": null,
   "metadata": {},
   "outputs": [],
   "source": [
    "# Test pagination endpoint - flip pages\n",
    "response = requests.get(\n",
    "    url=host + initial_next_page_url,\n",
    "    headers={\"Authorization\": bearer_token},\n",
    ")\n",
    "\n",
    "# show results\n",
    "print(\"top response:\", response.json()[\"top_responses\"][0][0])\n",
    "print(\"check endpoint response time (s):\", response.elapsed.total_seconds())"
   ]
  },
  {
   "cell_type": "markdown",
   "metadata": {},
   "source": [
    "### Flip through all available pages"
   ]
  },
  {
   "cell_type": "code",
   "execution_count": null,
   "metadata": {},
   "outputs": [],
   "source": [
    "url = initial_next_page_url\n",
    "page_number = 2\n",
    "\n",
    "while True:\n",
    "\n",
    "    # print current page number\n",
    "    print(\"Page\", page_number)\n",
    "\n",
    "    #### call\n",
    "    response = requests.get(\n",
    "        url=host + url,\n",
    "        headers={\"Authorization\": bearer_token},\n",
    "    )\n",
    "\n",
    "    #### print results\n",
    "    print(\"top response:\", response.json()[\"top_responses\"][0][0])\n",
    "    print(\"check endpoint response time (s):\", response.elapsed.total_seconds())\n",
    "\n",
    "    #### return next/prev page link\n",
    "    # Note: The response will simply not include the next/prev page url field if it\n",
    "    # doesn't exist, resulting in an error if we try to select it from the JSON response.\n",
    "    if \"next_page_url\" in response.json():\n",
    "        url = response.json()[\"next_page_url\"]\n",
    "        page_number += 1\n",
    "    else:\n",
    "        print(\"ERROR: No next/prev page.\")\n",
    "        break"
   ]
  }
 ],
 "metadata": {
  "kernelspec": {
   "display_name": "Python 3.9.0 ('aaq_template')",
   "language": "python",
   "name": "python3"
  },
  "language_info": {
   "codemirror_mode": {
    "name": "ipython",
    "version": 3
   },
   "file_extension": ".py",
   "mimetype": "text/x-python",
   "name": "python",
   "nbconvert_exporter": "python",
   "pygments_lexer": "ipython3",
   "version": "3.9.0"
  },
  "vscode": {
   "interpreter": {
    "hash": "2bfbccda332751762c69be7bb18edb120aeff78230d971fd853769c6e9ab45f4"
   }
  }
 },
 "nbformat": 4,
 "nbformat_minor": 2
}
