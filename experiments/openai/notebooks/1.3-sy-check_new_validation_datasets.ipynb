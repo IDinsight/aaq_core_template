{
 "cells": [
  {
   "cell_type": "code",
   "execution_count": null,
   "id": "453dadbf-7f80-4abc-8ef6-f75ade2dda96",
   "metadata": {
    "tags": []
   },
   "outputs": [],
   "source": [
    "import pandas as pd\n",
    "import s3fs\n",
    "\n",
    "\n",
    "# fs = s3fs.S3FileSystem()\n",
    "# s3_path = \"s3://praekelt-static-resources/experiment/data/[Sam] Helpdesk Q&A FAQ Content _ MOMZA AAQ _ Oct 2022.xlsx - Final FAQs for AAQ admin.csv\"\n",
    "\n",
    "# with fs.open(s3_path) as f:\n",
    "#     faqs = pd.read_csv(f)\n",
    "\n",
    "bucket = \"s3://praekelt-static-resources/\"\n",
    "val_uri = \"validation_aaq/validation_khumo_labelled_phase1and2_with_dem_context_clean.csv\"\n",
    "faqs_uri = \"mc_validation/praekelt_mc_faqs_trimester_tag.csv\"\n",
    "\n",
    "df = pd.read_csv(bucket + val_uri)\n",
    "faqs = pd.read_csv(bucket + faqs_uri, index=0)"
   ]
  },
  {
   "cell_type": "code",
   "execution_count": null,
   "id": "990bbacc-4917-4abf-b7a4-15be4d2cef88",
   "metadata": {
    "tags": []
   },
   "outputs": [],
   "source": [
    "faqs.head()"
   ]
  },
  {
   "cell_type": "code",
   "execution_count": null,
   "id": "ec5f071c-f477-4279-ad71-0e10f7f8ae36",
   "metadata": {
    "tags": []
   },
   "outputs": [],
   "source": [
    "faqs.faq_title.nunique(), faqs.shape"
   ]
  },
  {
   "cell_type": "code",
   "execution_count": null,
   "id": "f7a255f9-0ec7-4082-9840-d234b21df276",
   "metadata": {
    "tags": []
   },
   "outputs": [],
   "source": [
    "faqs.faq_content_to_send.nunique()"
   ]
  },
  {
   "cell_type": "code",
   "execution_count": null,
   "id": "3653b18d-7426-44d8-a664-c12f2452e8b4",
   "metadata": {
    "tags": []
   },
   "outputs": [],
   "source": [
    "duplicated_mask = faqs[[\"faq_title\", \"faq_content_to_send\"]].duplicated()\n",
    "faqs = faqs[~duplicated_mask]"
   ]
  },
  {
   "cell_type": "code",
   "execution_count": null,
   "id": "3624a2bf-7917-4eb3-8ca9-36cd34133d28",
   "metadata": {
    "tags": []
   },
   "outputs": [],
   "source": [
    "df.head()"
   ]
  },
  {
   "cell_type": "markdown",
   "id": "5df9a192-d3c7-4526-893f-db6f93fe3352",
   "metadata": {},
   "source": [
    "# Clean FAQ names"
   ]
  },
  {
   "cell_type": "code",
   "execution_count": null,
   "id": "d3392c62-da9c-4459-9299-2e991279c4c4",
   "metadata": {
    "tags": []
   },
   "outputs": [],
   "source": [
    "data_faq_names = set(df[\"FAQ Name\"].unique())\n",
    "faq_names = set(faqs[\"faq_title\"].tolist())"
   ]
  },
  {
   "cell_type": "code",
   "execution_count": null,
   "id": "7138136e-1d9a-42f8-81af-60e6a59bad66",
   "metadata": {
    "tags": []
   },
   "outputs": [],
   "source": [
    "len(data_faq_names.intersection(faq_names))"
   ]
  },
  {
   "cell_type": "code",
   "execution_count": null,
   "id": "3c078d5e-6119-45e3-b108-685d6dd7bbea",
   "metadata": {
    "tags": []
   },
   "outputs": [],
   "source": [
    "data_faq_names - faq_names"
   ]
  },
  {
   "cell_type": "code",
   "execution_count": null,
   "id": "7d895e65-9524-4286-ba4b-aeb332f36238",
   "metadata": {
    "tags": []
   },
   "outputs": [],
   "source": [
    "faq_names - data_faq_names"
   ]
  },
  {
   "cell_type": "code",
   "execution_count": null,
   "id": "3f4ab47b-6101-4b07-95c1-d9a2036cde62",
   "metadata": {
    "tags": []
   },
   "outputs": [],
   "source": [
    "len(data_faq_names)"
   ]
  },
  {
   "cell_type": "code",
   "execution_count": null,
   "id": "f26f8d4d-73a4-4ad6-88b5-82036435d9e8",
   "metadata": {},
   "outputs": [],
   "source": [
    "{\n",
    "    \"Preg - ANAEMIA\": \"Preg - Anemia\",\n",
    "    'COVID-19 - Breastfeeding': \"COVID-19 - Vaccine when breastfeeding\",\n",
    "    \"\"\n",
    "}\n"
   ]
  }
 ],
 "metadata": {
  "kernelspec": {
   "display_name": "Python [conda env:aaq_openai] *",
   "language": "python",
   "name": "conda-env-aaq_openai-py"
  },
  "language_info": {
   "codemirror_mode": {
    "name": "ipython",
    "version": 3
   },
   "file_extension": ".py",
   "mimetype": "text/x-python",
   "name": "python",
   "nbconvert_exporter": "python",
   "pygments_lexer": "ipython3",
   "version": "3.9.0"
  }
 },
 "nbformat": 4,
 "nbformat_minor": 5
}
