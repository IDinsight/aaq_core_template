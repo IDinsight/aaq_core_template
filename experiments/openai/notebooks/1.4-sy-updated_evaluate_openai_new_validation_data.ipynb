{
 "cells": [
  {
   "cell_type": "markdown",
   "id": "56868617-5325-4a02-91d0-06f43ebc7d70",
   "metadata": {},
   "source": [
    "Relies on 1.2"
   ]
  },
  {
   "cell_type": "code",
   "execution_count": null,
   "id": "c8dd7e89-dccc-47d9-848b-3b52d4d10d3a",
   "metadata": {
    "tags": []
   },
   "outputs": [],
   "source": [
    "import pandas as pd\n",
    "import s3fs\n",
    "\n",
    "\n",
    "bucket = \"s3://praekelt-static-resources/\"\n",
    "val_uri = \"validation_aaq/validation_khumo_labelled_phase1and2_with_dem_context_clean.csv\"\n",
    "\n",
    "df = pd.read_csv(bucket + val_uri)"
   ]
  },
  {
   "cell_type": "code",
   "execution_count": null,
   "id": "016e78e2-c8f3-4e98-a033-499190609dc0",
   "metadata": {
    "tags": []
   },
   "outputs": [],
   "source": [
    "df2 = pd.read_csv(bucket + \"validation_aaq/validation_khumo_labelled_phase1and2_with_dem_context.csv\")"
   ]
  },
  {
   "cell_type": "code",
   "execution_count": null,
   "id": "acf6d5b5-700d-4bd1-bc43-83a9b13867bc",
   "metadata": {
    "tags": []
   },
   "outputs": [],
   "source": [
    "df2.shape"
   ]
  },
  {
   "cell_type": "code",
   "execution_count": null,
   "id": "e1b9b3f4-762f-47b7-80ef-2f21c5911f7d",
   "metadata": {
    "tags": []
   },
   "outputs": [],
   "source": [
    "df2.columns"
   ]
  },
  {
   "cell_type": "markdown",
   "id": "0b361b1c-ffae-46d7-b325-c2966ad5abdd",
   "metadata": {},
   "source": [
    "Remove PII"
   ]
  },
  {
   "cell_type": "code",
   "execution_count": null,
   "id": "357a9437-ddf3-48f8-87be-95a3268547a4",
   "metadata": {
    "tags": []
   },
   "outputs": [],
   "source": [
    "original_text = df2[df2.question_msg_id==\"q31593\"].iloc[0].Question\n",
    "pii_removed_text = \" \".join(original_text.split()[:-2])"
   ]
  },
  {
   "cell_type": "code",
   "execution_count": null,
   "id": "7819b702-e448-4768-8ae7-fb368ec9c614",
   "metadata": {
    "tags": []
   },
   "outputs": [],
   "source": [
    "pii_removed_text"
   ]
  },
  {
   "cell_type": "code",
   "execution_count": null,
   "id": "9e15b902-161f-4ecb-a9f2-1c5c277d5f05",
   "metadata": {
    "tags": []
   },
   "outputs": [],
   "source": [
    "df2[df2.question_msg_id==\"q31593\"].iloc[0].Question = pii_removed_text"
   ]
  },
  {
   "cell_type": "markdown",
   "id": "8c731091-df31-4efe-8e23-c4326aebd2ed",
   "metadata": {},
   "source": [
    "Add labels on whether the chosen FAQ is the correct answer or not"
   ]
  },
  {
   "cell_type": "code",
   "execution_count": null,
   "id": "0e2f9e60-c753-4b95-ad76-f0f97cbde9b8",
   "metadata": {
    "tags": []
   },
   "outputs": [],
   "source": [
    "df3 = pd.read_csv(\"s3://praekelt-static-resources/experiment/data/MC_ FAQ labelling for messages (For Khumo) - Phase 1.csv\")"
   ]
  },
  {
   "cell_type": "code",
   "execution_count": null,
   "id": "ffe7e704-48f0-422d-9e56-bec2af840a74",
   "metadata": {
    "tags": []
   },
   "outputs": [],
   "source": [
    "df3"
   ]
  },
  {
   "cell_type": "code",
   "execution_count": null,
   "id": "2aba9041-92ab-4957-820b-36db419709e1",
   "metadata": {
    "tags": []
   },
   "outputs": [],
   "source": [
    "df3.columns"
   ]
  },
  {
   "cell_type": "code",
   "execution_count": null,
   "id": "bd3d4c23-75b8-493d-9199-09ad3e49de99",
   "metadata": {
    "tags": []
   },
   "outputs": [],
   "source": [
    "correct_answer_labels = df3.rename(columns={\"Notes from Khumo: \": \"correct_answer\"})[[\"question_msg_id\", \"correct_answer\"]].dropna().reset_index(drop=True)"
   ]
  },
  {
   "cell_type": "code",
   "execution_count": null,
   "id": "1e359c3b-2a82-41cd-a814-9e6b41f20de1",
   "metadata": {
    "tags": []
   },
   "outputs": [],
   "source": [
    "merged_answers = df2.merge(correct_answer_labels, on=\"question_msg_id\", how=\"left\")\n",
    "df2[\"correct_answer\"] = merged_answers.correct_answer_x.fillna(merged_answers.correct_answer_y)"
   ]
  },
  {
   "cell_type": "markdown",
   "id": "b773152e-0015-4d67-9bc1-978576cbb87a",
   "metadata": {},
   "source": [
    "# 2. Evaluate OpenAI Embeddings model"
   ]
  },
  {
   "cell_type": "markdown",
   "id": "5cc9443a-a4f6-4a90-b4e3-b282168d9f8a",
   "metadata": {},
   "source": [
    "### 2.2 Get embeddings for FAQ"
   ]
  },
  {
   "cell_type": "code",
   "execution_count": null,
   "id": "acfc1557-1bf9-4bf4-8427-17a0d3b182d8",
   "metadata": {
    "tags": []
   },
   "outputs": [],
   "source": [
    "from openai.embeddings_utils import get_embedding, get_embeddings\n",
    "\n",
    "# embedding model parameters\n",
    "embedding_model = \"text-embedding-ada-002\"\n",
    "embedding_encoding = \"cl100k_base\"  # this the encoding for text-embedding-ada-002"
   ]
  },
  {
   "cell_type": "code",
   "execution_count": null,
   "id": "5166ee29-ee2d-4651-9509-1a6f7ae8d4b3",
   "metadata": {
    "tags": []
   },
   "outputs": [],
   "source": [
    "faq_embeddings = pd.read_parquet(\"../data/faq_embeddings_updated.parquet\")"
   ]
  },
  {
   "cell_type": "markdown",
   "id": "8573b229-a37e-4795-9435-f395646d997e",
   "metadata": {
    "tags": []
   },
   "source": [
    "### 2.3 Get embeddings for queries\n",
    "\n",
    "#### Check query data"
   ]
  },
  {
   "cell_type": "code",
   "execution_count": null,
   "id": "4cc57b31-f42a-4f43-8669-287c715d33d8",
   "metadata": {
    "tags": []
   },
   "outputs": [],
   "source": [
    "df2.Question"
   ]
  },
  {
   "cell_type": "markdown",
   "id": "6d08d3d6-4971-4f67-9c0a-55c84e66b5a8",
   "metadata": {},
   "source": [
    "#### Get embeddings for queries"
   ]
  },
  {
   "cell_type": "code",
   "execution_count": null,
   "id": "0f96c4a3-47cf-43df-8f56-30b9886e5196",
   "metadata": {
    "tags": []
   },
   "outputs": [],
   "source": [
    "validation_df = df2.loc[df2.Question.notnull(), [\"question_msg_id\", \"Question\", \"correct_answer\", \"FAQ Name\"]].rename(columns={\"FAQ Name\": \"faq_name\", \"Question\": \"question\"}).copy()\n",
    "validation_df.faq_name.loc[validation_df.faq_name==\"Preg - Anemia\"] = \"Preg - Anaemia\""
   ]
  },
  {
   "cell_type": "code",
   "execution_count": null,
   "id": "36b4ceff-a019-4e47-a082-e8c53df81ad2",
   "metadata": {
    "tags": []
   },
   "outputs": [],
   "source": [
    "validation_questions = validation_df.question.tolist()"
   ]
  },
  {
   "cell_type": "code",
   "execution_count": null,
   "id": "a48ef96e-0501-49f8-b868-6597808f7aaf",
   "metadata": {
    "tags": []
   },
   "outputs": [],
   "source": [
    "question_embeddings1 = get_embeddings(validation_df.question.iloc[:2048], engine=embedding_model)\n",
    "question_embeddings2 = get_embeddings(validation_df.question.iloc[2048:], engine=embedding_model)"
   ]
  },
  {
   "cell_type": "code",
   "execution_count": null,
   "id": "5b58dbb1-dcb5-496e-8d63-5051038da1f0",
   "metadata": {
    "tags": []
   },
   "outputs": [],
   "source": [
    "len(question_embeddings1) + len(question_embeddings2)"
   ]
  },
  {
   "cell_type": "code",
   "execution_count": null,
   "id": "21ba9852-481c-4c97-a30b-cd42cfb8e74c",
   "metadata": {
    "tags": []
   },
   "outputs": [],
   "source": [
    "validation_df.shape[0]"
   ]
  },
  {
   "cell_type": "code",
   "execution_count": null,
   "id": "0f93f548-e8b3-4ec8-b05d-e264de3e3383",
   "metadata": {
    "tags": []
   },
   "outputs": [],
   "source": [
    "validation_df[\"embeddings\"] = question_embeddings1+question_embeddings2"
   ]
  },
  {
   "cell_type": "code",
   "execution_count": null,
   "id": "9828628c-e6c9-43eb-9df2-f6c1a8e835e2",
   "metadata": {
    "tags": []
   },
   "outputs": [],
   "source": [
    "validation_df[\"embeddings\"] = validation_df.embeddings.apply(np.asarray)"
   ]
  },
  {
   "cell_type": "code",
   "execution_count": null,
   "id": "29df17a4-ce50-459a-bf1b-aacd320f2ea7",
   "metadata": {
    "tags": []
   },
   "outputs": [],
   "source": [
    "validation_df.to_parquet(\"../data/validation_df.parquet\")"
   ]
  },
  {
   "cell_type": "code",
   "execution_count": null,
   "id": "50412946-8b32-4631-ad18-a2486d1d04fc",
   "metadata": {},
   "outputs": [],
   "source": [
    "faqs.faq_content_embedding.isnull().any()"
   ]
  },
  {
   "cell_type": "markdown",
   "id": "3ed986cf-097d-4c89-8c8f-2ca75c5fa812",
   "metadata": {},
   "source": [
    "### 2.4 Compute top K accuracies"
   ]
  },
  {
   "cell_type": "code",
   "execution_count": null,
   "id": "ed472e91-6227-4ccb-9091-fa417be56194",
   "metadata": {
    "tags": []
   },
   "outputs": [],
   "source": [
    "faq_embeddings"
   ]
  },
  {
   "cell_type": "code",
   "execution_count": null,
   "id": "53a484d9-0345-4806-910e-bcecff7e0749",
   "metadata": {
    "tags": []
   },
   "outputs": [],
   "source": [
    "set(validation_embeddings.faq_name.unique()) - set(faq_embeddings.faq_name.unique())"
   ]
  },
  {
   "cell_type": "code",
   "execution_count": null,
   "id": "d8351367-f076-4224-b648-7d6145e9b9ec",
   "metadata": {
    "tags": []
   },
   "outputs": [],
   "source": [
    "validation_embeddings.faq_name.loc[validation_embeddings.faq_name==\"Preg - Anemia\"] = \"Preg - Anaemia\""
   ]
  },
  {
   "cell_type": "code",
   "execution_count": null,
   "id": "c1ac0652-1c35-4801-8e24-36a0f0336ad6",
   "metadata": {
    "tags": []
   },
   "outputs": [],
   "source": [
    "faq_embeddings.faq_name.unique()"
   ]
  },
  {
   "cell_type": "code",
   "execution_count": null,
   "id": "5b6a7054-bcf5-48bc-8978-e30bc12e7500",
   "metadata": {
    "tags": []
   },
   "outputs": [],
   "source": [
    "from openai.embeddings_utils import cosine_similarity\n",
    "\n",
    "\n",
    "def get_top_k_faqs_for_embedding(query_embedding, k=10):\n",
    "    faq_embeddings[\"current_query_cossim\"] = faq_embeddings.faq_content_embedding.apply(lambda x: cosine_similarity(x, query_embedding))\n",
    "    \n",
    "    results = (\n",
    "        faq_embeddings.sort_values(\"current_query_cossim\", ascending=False)\n",
    "        .head(k)\n",
    "        .faq_name\n",
    "        .tolist()\n",
    "    )\n",
    "    del faq_embeddings[\"current_query_cossim\"]\n",
    "    return results"
   ]
  },
  {
   "cell_type": "code",
   "execution_count": null,
   "id": "d6cb2add-a625-4ba7-9ffa-c835e048909c",
   "metadata": {
    "tags": []
   },
   "outputs": [],
   "source": [
    "validation_df[\"top10_pred\"] = list(map(get_top_k_faqs_for_embedding, validation_df.embeddings.tolist()))"
   ]
  },
  {
   "cell_type": "code",
   "execution_count": null,
   "id": "7bbf2a9f-7236-4abe-a459-3afa81a5f6b8",
   "metadata": {
    "tags": []
   },
   "outputs": [],
   "source": [
    "for k in [1, 3, 5, 7, 10]:\n",
    "    validation_df[f\"isin_top{k}\"] = validation_df.apply(\n",
    "        lambda row: row[\"faq_name\"] in row.top10_pred[:k], axis=1\n",
    "    )"
   ]
  },
  {
   "cell_type": "code",
   "execution_count": null,
   "id": "4d300125-d46d-4fa9-a96a-127793385868",
   "metadata": {
    "tags": []
   },
   "outputs": [],
   "source": [
    "validation_df.isnull().any()"
   ]
  },
  {
   "cell_type": "code",
   "execution_count": null,
   "id": "82f6d99d-dcd7-48f5-b8a4-e8aef0b5dd78",
   "metadata": {
    "tags": []
   },
   "outputs": [],
   "source": [
    "valid_mask = validation_df.faq_name.notnull()"
   ]
  },
  {
   "cell_type": "code",
   "execution_count": null,
   "id": "9c8ed2e6-37ba-4f59-85e4-b7c772d9490f",
   "metadata": {
    "tags": []
   },
   "outputs": [],
   "source": [
    "print(\"For all answers\")\n",
    "for k in [1, 3, 5, 7, 10]:\n",
    "    acc=validation_df.loc[valid_mask, f'isin_top{k}'].mean()\n",
    "    print(f\"Top {k} accuracy: {acc:.1%}\")"
   ]
  },
  {
   "cell_type": "code",
   "execution_count": null,
   "id": "2e37ccd5-ea24-40f8-969a-7dd447c2e28b",
   "metadata": {
    "tags": []
   },
   "outputs": [],
   "source": [
    "print(\"For all answers\")\n",
    "for k in [1, 3, 5, 7, 10]:\n",
    "    acc=validation_df.loc[valid_mask, f'isin_top{k}'].mean()\n",
    "    print(f\"{acc:.1%}\")"
   ]
  },
  {
   "cell_type": "code",
   "execution_count": null,
   "id": "db8e9269-d46a-4880-8bd3-ce109c88a294",
   "metadata": {
    "tags": []
   },
   "outputs": [],
   "source": [
    "print(\"For correct answers\")\n",
    "for k in [1, 3, 5, 7, 10]:\n",
    "    acc=validation_df.loc[valid_mask & (validation_df.correct_answer.str.lower() == \"yes\"), f'isin_top{k}'].mean()\n",
    "    print(f\"Top {k} accuracy: {acc:.1%}\")"
   ]
  },
  {
   "cell_type": "code",
   "execution_count": null,
   "id": "859804d4-e823-45ec-aa98-50bfbbb91787",
   "metadata": {
    "tags": []
   },
   "outputs": [],
   "source": [
    "print(\"For correct answers\")\n",
    "for k in [1, 3, 5, 7, 10]:\n",
    "    acc=validation_df.loc[valid_mask & (validation_df.correct_answer.str.lower() == \"yes\"), f'isin_top{k}'].mean()\n",
    "    print(f\"{acc:.1%}\")"
   ]
  },
  {
   "cell_type": "code",
   "execution_count": null,
   "id": "e1512d30-97d5-4f6a-93bb-8b11a1f25f86",
   "metadata": {
    "tags": []
   },
   "outputs": [],
   "source": [
    "validation_embeddings.correct_answer.str.lower().value_counts()"
   ]
  },
  {
   "cell_type": "markdown",
   "id": "1055f166-2c64-451a-b852-aa6b5454dfe6",
   "metadata": {},
   "source": [
    "## 3. Save validation data to upload to S3"
   ]
  },
  {
   "cell_type": "markdown",
   "id": "59cf63ff-0ee7-4b92-8139-80d028f9cb56",
   "metadata": {},
   "source": [
    "Add demographic context columns"
   ]
  },
  {
   "cell_type": "code",
   "execution_count": null,
   "id": "9ac30415-c3e3-4bb7-87b6-b330e8892525",
   "metadata": {
    "tags": []
   },
   "outputs": [],
   "source": [
    "dem_ctx_cols = ['fields_edd', 'calculated_age', 'calculated_weeks_preg', 'num_babies', 'most_recent_baby_dob', 'most_recent_baby_age_weeks']\n",
    "validation_df = pd.concat([validation_df, df2.loc[df2.Question.notnull(), dem_ctx_cols]], axis=1)"
   ]
  },
  {
   "cell_type": "code",
   "execution_count": null,
   "id": "a7d74b88-f819-4ac9-a3a8-e5a52a475df8",
   "metadata": {
    "tags": []
   },
   "outputs": [],
   "source": [
    "bucket"
   ]
  },
  {
   "cell_type": "code",
   "execution_count": null,
   "id": "58ed4d72-93b2-493c-bc80-94e07c84267a",
   "metadata": {
    "tags": []
   },
   "outputs": [],
   "source": [
    "validation_df.to_parquet(\"s3://praekelt-static-resources/experiment/data/mc/mc_openai_validation.parquet\", index=False)"
   ]
  },
  {
   "cell_type": "code",
   "execution_count": null,
   "id": "76c4204a-2dc0-40eb-80bd-ef08cba40468",
   "metadata": {
    "tags": []
   },
   "outputs": [],
   "source": [
    "validation_df.to_csv(\"s3://praekelt-static-resources/experiment/data/mc/mc_openai_validation.csv\", index=False)"
   ]
  },
  {
   "cell_type": "code",
   "execution_count": null,
   "id": "5ab732bc-80d6-46cf-a7a5-fbd53228016c",
   "metadata": {
    "tags": []
   },
   "outputs": [],
   "source": [
    "faqs.info()"
   ]
  },
  {
   "cell_type": "code",
   "execution_count": null,
   "id": "1ee9f665-387b-4ea6-a72d-ebe404d949fe",
   "metadata": {
    "tags": []
   },
   "outputs": [],
   "source": [
    "faq_embeddings.faq_content_embedding.isnull().any()"
   ]
  },
  {
   "cell_type": "code",
   "execution_count": null,
   "id": "bb7549b0-fc57-4ba0-a300-86e5a86ae1f8",
   "metadata": {
    "tags": []
   },
   "outputs": [],
   "source": [
    "faq_embeddings.info()"
   ]
  },
  {
   "cell_type": "code",
   "execution_count": null,
   "id": "ffa130bb-d31d-43fa-bee0-825cf66f15c2",
   "metadata": {
    "tags": []
   },
   "outputs": [],
   "source": [
    "faq_embeddings.merge(faqs)"
   ]
  },
  {
   "cell_type": "code",
   "execution_count": null,
   "id": "5d997cbd-f6e8-4ccf-81cb-1b55ff910a7e",
   "metadata": {
    "tags": []
   },
   "outputs": [],
   "source": [
    "faq_embeddings.merge(faqs).to_csv(\"s3://praekelt-static-resources/experiment/data/mc/mc_openai_faqs.csv\", index=False)"
   ]
  },
  {
   "cell_type": "code",
   "execution_count": null,
   "id": "e2f901f0-b1d3-49ec-a9a2-9d010f074d49",
   "metadata": {
    "tags": []
   },
   "outputs": [],
   "source": [
    "import numpy as np\n",
    "with open(\"/Users/suzinyou/IDinsight/praekelt/templates/aaq_core_template/validation/true_faq_rank.npy\", \"rb\") as fp:\n",
    "    aaq_rank = pickle.load(fp)"
   ]
  },
  {
   "cell_type": "code",
   "execution_count": null,
   "id": "67dd1b09-577e-4d58-beb2-f3d2e0e7439e",
   "metadata": {
    "tags": []
   },
   "outputs": [],
   "source": [
    "validation_df.shape"
   ]
  },
  {
   "cell_type": "code",
   "execution_count": null,
   "id": "9388d550-3bec-427c-8a2e-ea86638140d4",
   "metadata": {
    "tags": []
   },
   "outputs": [],
   "source": [
    "valid_mask.sum()"
   ]
  },
  {
   "cell_type": "code",
   "execution_count": null,
   "id": "ec326ec8-90cb-43ea-878e-4429bb4486ec",
   "metadata": {
    "tags": []
   },
   "outputs": [],
   "source": [
    "len(aaq_rank)"
   ]
  },
  {
   "cell_type": "code",
   "execution_count": null,
   "id": "b4e9a2c7-2237-4b57-a29f-50b0a439da8f",
   "metadata": {
    "tags": []
   },
   "outputs": [],
   "source": [
    "validation_df[\"aaq_rank\"] = np.inf\n",
    "validation_df.loc[valid_mask, \"aaq_rank\"] = aaq_rank"
   ]
  },
  {
   "cell_type": "code",
   "execution_count": null,
   "id": "30dec107-937f-4afd-b20d-07cee337b97e",
   "metadata": {
    "tags": []
   },
   "outputs": [],
   "source": [
    "print(\"Custom embeddings model\")\n",
    "print(\"For correct answers\")\n",
    "for k in [1, 3, 5, 7, 10]:\n",
    "    acc = validation_df.loc[valid_mask & (validation_df.correct_answer.str.lower() == \"yes\")].aaq_rank.apply(lambda x: x <= k).mean()\n",
    "    print(f\"{acc:.1%}\")"
   ]
  },
  {
   "cell_type": "code",
   "execution_count": null,
   "id": "0a5d0580-7635-4a51-b1b9-59589e02123c",
   "metadata": {
    "tags": []
   },
   "outputs": [],
   "source": [
    "print(\"Custom embeddings model\")\n",
    "print(\"For all answers\")\n",
    "for k in [1, 3, 5, 7, 10]:\n",
    "    acc = validation_df.loc[valid_mask].aaq_rank.apply(lambda x: x <= k).mean()\n",
    "    print(f\"{acc:.1%}\")"
   ]
  },
  {
   "cell_type": "code",
   "execution_count": null,
   "id": "238770a6-0ae0-42fc-9244-1abfc8dc5be9",
   "metadata": {},
   "outputs": [],
   "source": []
  }
 ],
 "metadata": {
  "kernelspec": {
   "display_name": "Python [conda env:aaq_openai] *",
   "language": "python",
   "name": "conda-env-aaq_openai-py"
  },
  "language_info": {
   "codemirror_mode": {
    "name": "ipython",
    "version": 3
   },
   "file_extension": ".py",
   "mimetype": "text/x-python",
   "name": "python",
   "nbconvert_exporter": "python",
   "pygments_lexer": "ipython3",
   "version": "3.9.0"
  }
 },
 "nbformat": 4,
 "nbformat_minor": 5
}
