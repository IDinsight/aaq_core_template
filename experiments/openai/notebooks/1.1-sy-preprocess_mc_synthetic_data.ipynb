{
 "cells": [
  {
   "cell_type": "markdown",
   "id": "b56d73bf-1725-4879-b486-35b0983eca7e",
   "metadata": {},
   "source": [
    "# Data preparation\n",
    "\n",
    "Preprocess synthetic MomConnect data for testing OpenAI embeddings.\n",
    "\n",
    "We use synthetic questions in order to abide by our data sharing agreement.\n",
    "\n",
    "Ideally, we would split synthetic questions into the following:\n",
    "\n",
    "* reference questions: for question-question matching\n",
    "* training questions: for training BERT\n",
    "* test questions: for evaluating BERT or OpenAI\n",
    "\n",
    "But many FAQs only have 4 synthetic questions."
   ]
  },
  {
   "cell_type": "code",
   "execution_count": null,
   "id": "4e4fcbad-4716-438b-88ca-fe873c566acb",
   "metadata": {},
   "outputs": [],
   "source": [
    "import pandas as pd\n",
    "import s3fs\n",
    "\n",
    "\n",
    "fs = s3fs.S3FileSystem()\n",
    "\n",
    "with fs.open(\"s3://praekelt-static-resources/experiment/data/[Sam] Helpdesk Q&A _ MOMZA _ FAQ Content.xlsx - FAQs.csv\") as f:\n",
    "    faqs = pd.read_csv(f)"
   ]
  },
  {
   "cell_type": "code",
   "execution_count": null,
   "id": "5cbafc9c-c125-45f8-b863-0aaf0a4491e4",
   "metadata": {},
   "outputs": [],
   "source": [
    "import numpy as np\n",
    "from numpy.random import MT19937\n",
    "from numpy.random import RandomState, SeedSequence\n",
    "\n",
    "# Clean column names in FAQs file\n",
    "column_map = {\n",
    "    'Validation questions - USER GENERATED': 'questions_usr',\n",
    "    'Validation questions - SYNTHETIC': 'questions_syn',\n",
    "    'FAQ Content': 'faq_content',\n",
    "    'FAQ Name': 'faq_name',\n",
    "    'FAQ title': 'faq_title',\n",
    "    'IDinsight Tags': 'faq_tags',\n",
    "}\n",
    "faqs = faqs.rename(columns=column_map)\n",
    "\n",
    "# Keep only the columns we need\n",
    "faqs = faqs[column_map.values()]\n",
    "\n",
    "# Drop rows we can't use\n",
    "faqs = faqs[faqs.faq_name != 'FAQ Name']\n",
    "faqs = faqs[~faqs.questions_usr.isnull()]\n",
    "\n",
    "# Parse example questions column so each elemnt is an array of questions (we use numpy array so we can index them)\n",
    "faqs.loc[:, \"questions_usr\"] = faqs.questions_usr.apply(lambda x: np.asarray(x.split('\\n')))\n",
    "\n",
    "# Clean Anaemia FAQ name\n",
    "faqs.loc[faqs.faq_name == \"Preg - ANAEMIA\", 'faq_name'] = \"Preg - Anemia\"\n",
    "\n",
    "# Keep FAQs with at least 4 or more example questions\n",
    "faqs = faqs[faqs.questions_usr.apply(lambda x: len(x)) >= 4]\n",
    "\n",
    "# (Only relevant for question-question matching)\n",
    "# Split into reference questions (tied to the FAQ) and example questions for training\n",
    "rs = RandomState(MT19937(SeedSequence(123456789)))\n",
    "\n",
    "def get_ref_split(l):\n",
    "    r = np.arange(len(l))\n",
    "    rs.shuffle(r)\n",
    "    return r[:2], r[2:]\n",
    "\n",
    "faqs.loc[:, \"_splits\"] = faqs.questions_usr.apply(get_ref_split)\n",
    "faqs.loc[:, \"question_ref\"] = faqs.apply(lambda x: x.questions_usr[x._splits[0]], axis=1)\n",
    "faqs.loc[:, \"question\"] = faqs.apply(lambda x: x.questions_usr[x._splits[1]], axis=1)\n",
    "\n",
    "# Cast numpy arrays into lists\n",
    "for col in ['question', 'question_ref', 'questions_usr',]:\n",
    "    faqs[col] = faqs[col].apply(lambda x: list(x))"
   ]
  },
  {
   "cell_type": "code",
   "execution_count": null,
   "id": "ed356a9f-7871-4f5c-b5a1-15a5dc4fc51f",
   "metadata": {},
   "outputs": [],
   "source": [
    "faqs.head()"
   ]
  },
  {
   "cell_type": "code",
   "execution_count": null,
   "id": "efc918c1-f091-470c-8c42-c01f5996b030",
   "metadata": {
    "tags": []
   },
   "outputs": [],
   "source": [
    "faqs.faq_content.nunique()"
   ]
  },
  {
   "cell_type": "code",
   "execution_count": null,
   "id": "b160ec0d-9e3a-47c2-920d-ab51db0e22e2",
   "metadata": {
    "tags": []
   },
   "outputs": [],
   "source": [
    "faqs.faq_name.nunique()"
   ]
  },
  {
   "cell_type": "code",
   "execution_count": null,
   "id": "90278099-24db-4855-8379-b001119f7b3b",
   "metadata": {
    "tags": []
   },
   "outputs": [],
   "source": [
    "faqs.isnull().any()"
   ]
  },
  {
   "cell_type": "code",
   "execution_count": null,
   "id": "41ca1e28-1164-4a6e-8cd6-78ca282c1b81",
   "metadata": {
    "tags": []
   },
   "outputs": [],
   "source": [
    "faqs[faqs.faq_content_embedding.isnull()]"
   ]
  },
  {
   "cell_type": "markdown",
   "id": "4588a872-d262-4fd9-bf60-95f0ae812a41",
   "metadata": {},
   "source": [
    "Distribution of number of synthetic questions per FAQ (excluding 2 reference questions, which we'll use for validation)"
   ]
  },
  {
   "cell_type": "code",
   "execution_count": null,
   "id": "428ca8ef-bbf0-472f-8893-a95074b713cd",
   "metadata": {},
   "outputs": [],
   "source": [
    "faqs._splits.apply(lambda x: len(x[1])).hist(bins=10)"
   ]
  },
  {
   "cell_type": "code",
   "execution_count": null,
   "id": "4d242623-f1b2-4aab-a11e-1a50d12aaa10",
   "metadata": {
    "tags": []
   },
   "outputs": [],
   "source": [
    "!pip install plotly"
   ]
  },
  {
   "cell_type": "code",
   "execution_count": null,
   "id": "10159d9c-ce2d-4f8e-9f13-34c87889b04a",
   "metadata": {
    "tags": []
   },
   "outputs": [],
   "source": [
    "!pip install scipy"
   ]
  },
  {
   "cell_type": "code",
   "execution_count": null,
   "id": "d655559d-2412-4ee8-accc-11b81a10f364",
   "metadata": {
    "tags": []
   },
   "outputs": [],
   "source": [
    "!pip install scikit-learn"
   ]
  },
  {
   "cell_type": "code",
   "execution_count": null,
   "id": "aef0ae9b-c6b4-42b6-9fb2-922ed036280c",
   "metadata": {
    "tags": []
   },
   "outputs": [],
   "source": [
    "import tiktoken\n",
    "\n",
    "from openai.embeddings_utils import get_embedding, get_embeddings\n",
    "\n",
    "\n",
    "# embedding model parameters\n",
    "embedding_model = \"text-embedding-ada-002\"\n",
    "embedding_encoding = \"cl100k_base\"  # this the encoding for text-embedding-ada-002"
   ]
  },
  {
   "cell_type": "code",
   "execution_count": null,
   "id": "a3a6773f-bd1e-4ddc-b98f-c050b392fe31",
   "metadata": {
    "tags": []
   },
   "outputs": [],
   "source": [
    "max_tokens = 600  # the maximum for text-embedding-ada-002 is 8191"
   ]
  },
  {
   "cell_type": "code",
   "execution_count": null,
   "id": "b3f6d70d-04b3-46ad-bb85-285c93ece69f",
   "metadata": {
    "tags": []
   },
   "outputs": [],
   "source": [
    "encoding = tiktoken.get_encoding(embedding_encoding)\n",
    "\n",
    "faqs_n_tokens = faqs.faq_content.apply(lambda x: len(encoding.encode(x)))\n",
    "faqs_n_tokens.describe()"
   ]
  },
  {
   "cell_type": "code",
   "execution_count": null,
   "id": "306ad7b7-86ae-4c9b-844f-cbf6b831d385",
   "metadata": {
    "tags": []
   },
   "outputs": [],
   "source": [
    "faqs_n_tokens.sum()"
   ]
  },
  {
   "cell_type": "markdown",
   "id": "27d9d2af-e94a-45e2-8cf4-d4502392c325",
   "metadata": {},
   "source": [
    "OpenAI rate limits for pay-as-you-go (cf. [here](https://github.com/openai/openai-cookbook/blob/main/examples/How_to_handle_rate_limits.ipynb)):\n",
    "\n",
    "* 60 requests / minute\n",
    "* 250,000 davinci tokens / minute (and proportionally more for cheaper models)\n",
    "\n",
    "Pricing\n",
    "\n",
    "* \\$0.0004  / 1K tokens for Ada\n",
    "* \\$0.0005  / 1K tokens for Babbage\n",
    "* \\$0.0020  / 1K tokens for Curie\n",
    "* \\$0.0200  / 1K tokens for Davinci"
   ]
  },
  {
   "cell_type": "code",
   "execution_count": null,
   "id": "d0ac8911-e536-4247-807c-4e038e72fcf7",
   "metadata": {
    "tags": []
   },
   "outputs": [],
   "source": [
    "pricing = {\n",
    "    \"Ada\": 0.0004 / 1000,\n",
    "    \"Babbage\": 0.0005 / 1000,\n",
    "    \"Curie\": 0.002 / 1000,\n",
    "    \"Davinci\": 0.02 / 1000\n",
    "}\n",
    "\n",
    "print(\"Estimated cost for all FAQs\")\n",
    "for model, rate in pricing.items():\n",
    "    print(f\"{model}: ${rate * faqs_n_tokens.sum():.2f}\")"
   ]
  },
  {
   "cell_type": "code",
   "execution_count": null,
   "id": "a45400a3-3c50-446a-ae7b-e865869e92e1",
   "metadata": {
    "tags": []
   },
   "outputs": [],
   "source": [
    "import time\n",
    "\n",
    "MAX_REQUESTS_PER_MIN = 60\n",
    "WAIT_SECONDS_PER_REQUEST = 60 / MAX_REQUESTS_PER_MIN\n",
    "\n",
    "def delayed_get_embedding(text):\n",
    "    time.sleep(WAIT_SECONDS_PER_REQUEST)\n",
    "    return get_embedding(text, engine=embedding_model)"
   ]
  },
  {
   "cell_type": "code",
   "execution_count": null,
   "id": "ff402ca6-51fb-4ea0-b675-033ad02575a2",
   "metadata": {},
   "outputs": [],
   "source": [
    "faq_embeddings = get_embeddings(faqs.faq_content.tolist(), engine=embedding_model)"
   ]
  },
  {
   "cell_type": "code",
   "execution_count": null,
   "id": "9ca7fff9-f418-41af-b547-30d014a46418",
   "metadata": {
    "tags": []
   },
   "outputs": [],
   "source": [
    "print(len(faq_embeddings))\n",
    "print(len(faq_embeddings[0]))"
   ]
  },
  {
   "cell_type": "code",
   "execution_count": null,
   "id": "7eb63cca-e2f4-48e5-825a-64ee8b0d6483",
   "metadata": {
    "tags": []
   },
   "outputs": [],
   "source": [
    "!pip install pyarrow"
   ]
  },
  {
   "cell_type": "code",
   "execution_count": null,
   "id": "4538a869-6058-4701-b143-a9a22f88de0a",
   "metadata": {
    "tags": []
   },
   "outputs": [],
   "source": [
    "faqs[\"faq_content_embedding\"] = pd.Series(faq_embeddings).apply(np.asarray)\n",
    "faqs[[\"faq_name\", \"faq_title\", \"faq_content_embedding\"]].to_parquet(\"../data/faq_embeddings.parquet\")"
   ]
  },
  {
   "cell_type": "code",
   "execution_count": null,
   "id": "6183646f-8611-43e6-a56a-dcd4d4759da6",
   "metadata": {
    "tags": []
   },
   "outputs": [],
   "source": [
    "faqs.faq_content_embedding[faqs.faq_content_embedding.isnull()]"
   ]
  },
  {
   "cell_type": "code",
   "execution_count": null,
   "id": "608140e9-f3a1-43f7-ab8f-50e897c7db0a",
   "metadata": {
    "tags": []
   },
   "outputs": [],
   "source": [
    "faqs[\"current_query_cossim\"]"
   ]
  },
  {
   "cell_type": "code",
   "execution_count": null,
   "id": "f81f5430-1f14-4831-9a9c-60b832390d7d",
   "metadata": {
    "tags": []
   },
   "outputs": [],
   "source": [
    "from openai.embeddings_utils import get_embedding, cosine_similarity\n",
    "\n",
    "# search through the FAQs\n",
    "def get_top_k_faqs(query, k=10):\n",
    "    query_embedding = get_embedding(\n",
    "        query,\n",
    "        engine=embedding_model\n",
    "    )\n",
    "    null_mask = faqs.faq_content_embedding.isnull()\n",
    "    faqs[\"current_query_cossim\"] = faqs.faq_content_embedding.apply(lambda x: cosine_similarity(x, query_embedding))\n",
    "    faqs.loc[null_mask, \"current_query_cossim\"] = np.nan\n",
    "\n",
    "    results = (\n",
    "        faqs.sort_values(\"current_query_cossim\", ascending=False)\n",
    "        .head(k)\n",
    "        .faq_name\n",
    "        .tolist()\n",
    "    )\n",
    "    del faqs[\"current_query_cossim\"]\n",
    "    return results"
   ]
  },
  {
   "cell_type": "code",
   "execution_count": null,
   "id": "6a5ea3b1-5d28-4268-a2a0-fa5995d32d9c",
   "metadata": {
    "tags": []
   },
   "outputs": [],
   "source": [
    "top_10_faq_names = get_top_k_faqs(\"Is it normal to vomit every day for a week when I'm 16 weeks pregnant?\", k=10)"
   ]
  },
  {
   "cell_type": "code",
   "execution_count": null,
   "id": "85aa6507-9b43-46cd-aca9-261804b259bf",
   "metadata": {
    "tags": []
   },
   "outputs": [],
   "source": [
    "top_10_faq_names"
   ]
  },
  {
   "cell_type": "code",
   "execution_count": null,
   "id": "5ff95095-7aff-4c23-aa9f-b2b1b34e69fd",
   "metadata": {
    "tags": []
   },
   "outputs": [],
   "source": [
    "validation_data = faqs[faqs.faq_content_embedding.notnull()].explode(\"question_ref\").reset_index()"
   ]
  },
  {
   "cell_type": "code",
   "execution_count": null,
   "id": "8a508b23-8537-45be-bb51-dc9ad408a1e3",
   "metadata": {
    "tags": []
   },
   "outputs": [],
   "source": [
    "validation_data.head()"
   ]
  },
  {
   "cell_type": "code",
   "execution_count": null,
   "id": "649db3fa-3fe7-47ff-a4f9-e2113a24567a",
   "metadata": {
    "tags": []
   },
   "outputs": [],
   "source": [
    "validation_data.loc[validation_data.question_ref.apply(len) > 250, \"question_ref\"]"
   ]
  },
  {
   "cell_type": "code",
   "execution_count": null,
   "id": "75be96ec-f7cd-408c-9271-e2d3789ac5e4",
   "metadata": {
    "tags": []
   },
   "outputs": [],
   "source": [
    "validation_data.loc[249].question_ref"
   ]
  },
  {
   "cell_type": "code",
   "execution_count": null,
   "id": "8499e194-b96f-4f1e-87d5-6414854fadc6",
   "metadata": {
    "tags": []
   },
   "outputs": [],
   "source": [
    "validation_data.question_ref.apply(len).hist()"
   ]
  },
  {
   "cell_type": "code",
   "execution_count": null,
   "id": "6e2ef22d-f17c-440e-96db-d618acad9ec8",
   "metadata": {
    "tags": []
   },
   "outputs": [],
   "source": [
    "validation_data_questions = validation_data.question_ref.tolist()"
   ]
  },
  {
   "cell_type": "code",
   "execution_count": null,
   "id": "5a273cf0-7e39-407e-92c5-ab677fb94021",
   "metadata": {
    "tags": []
   },
   "outputs": [],
   "source": [
    "query_embeddings_list = []\n",
    "failed_indices = []\n",
    "for i, query in enumerate(validation_data_questions):\n",
    "    try:\n",
    "        query_embeddings_list.append(get_embedding(query, engine=embedding_model))\n",
    "    except Exception as e:\n",
    "        print(f\"{i}: {e}\")\n",
    "        failed_indices.append(i)"
   ]
  },
  {
   "cell_type": "code",
   "execution_count": null,
   "id": "ad9a70f3-61ba-4541-b7b8-3990eaf149fc",
   "metadata": {
    "tags": []
   },
   "outputs": [],
   "source": [
    "validation_data_questions[142]"
   ]
  },
  {
   "cell_type": "code",
   "execution_count": null,
   "id": "cf0f6b58-bd0b-448c-a251-9f2c8fe972aa",
   "metadata": {
    "tags": []
   },
   "outputs": [],
   "source": [
    "validation_data_drop_weird = pd.concat([validation_data.iloc[:142], validation_data.iloc[143:]])"
   ]
  },
  {
   "cell_type": "code",
   "execution_count": null,
   "id": "92380a69-0cfd-4e85-8ac9-29378f450deb",
   "metadata": {
    "tags": []
   },
   "outputs": [],
   "source": [
    "def get_top_k_faqs_for_embedding(query_embedding, k=10):\n",
    "    null_mask = faqs.faq_content_embedding.isnull()\n",
    "    faqs[\"current_query_cossim\"] = faqs.faq_content_embedding.apply(lambda x: cosine_similarity(x, query_embedding))\n",
    "    faqs.loc[null_mask, \"current_query_cossim\"] = np.nan\n",
    "\n",
    "    results = (\n",
    "        faqs.sort_values(\"current_query_cossim\", ascending=False)\n",
    "        .head(k)\n",
    "        .faq_name\n",
    "        .tolist()\n",
    "    )\n",
    "    del faqs[\"current_query_cossim\"]\n",
    "    return results"
   ]
  },
  {
   "cell_type": "code",
   "execution_count": null,
   "id": "4693ff04-c875-4ca0-8222-e6e22033bb6b",
   "metadata": {
    "tags": []
   },
   "outputs": [],
   "source": [
    "validation_data_drop_weird[\"top10_pred\"] = list(map(get_top_k_faqs_for_embedding, query_embeddings_list))"
   ]
  },
  {
   "cell_type": "code",
   "execution_count": null,
   "id": "f1de2219-06bb-4311-9033-0c3d0ab07142",
   "metadata": {
    "tags": []
   },
   "outputs": [],
   "source": [
    "for k in [1, 3, 5, 7, 10]:\n",
    "    validation_data_drop_weird[f\"isin_top{k}\"] = validation_data_drop_weird.apply(lambda row: row.faq_name in row.top10_pred[:k], axis=1)"
   ]
  },
  {
   "cell_type": "code",
   "execution_count": null,
   "id": "5c4c3853-3594-4c18-94c0-ad217661fccb",
   "metadata": {
    "tags": []
   },
   "outputs": [],
   "source": [
    "for k in [1, 3, 5, 7, 10]:\n",
    "    acc=validation_data_drop_weird[f'isin_top{k}'].mean()\n",
    "    print(f\"Top {k} accuracy: {acc:.1%}\")"
   ]
  },
  {
   "cell_type": "code",
   "execution_count": null,
   "id": "1a86b62e-a172-43a0-b548-a08b3c088d26",
   "metadata": {
    "tags": []
   },
   "outputs": [],
   "source": [
    "validation_data_drop_weird.head()"
   ]
  },
  {
   "cell_type": "code",
   "execution_count": null,
   "id": "cb9ca8e3-f7a9-4578-8e6b-f93d8e11802e",
   "metadata": {
    "tags": []
   },
   "outputs": [],
   "source": [
    "validation_data_drop_weird[[\"question_ref\", \"faq_name\", \"faq_title\", \"faq_content\"]].to_csv(\"../data/synthetic_validation_data.csv\", index=False)"
   ]
  },
  {
   "cell_type": "code",
   "execution_count": null,
   "id": "93b2dab4-9964-4542-836b-85d5bec2d78e",
   "metadata": {
    "tags": []
   },
   "outputs": [],
   "source": [
    "faqs.columns"
   ]
  },
  {
   "cell_type": "code",
   "execution_count": null,
   "id": "3d8c98f3-5d19-46ec-ba42-dede1281bf7e",
   "metadata": {
    "tags": []
   },
   "outputs": [],
   "source": [
    "# faqs[\"faq_tags\"]=faqs.faq_tags.str.strip().str.split(\", \")"
   ]
  },
  {
   "cell_type": "code",
   "execution_count": null,
   "id": "d48e39ad-6aaa-4495-88c6-02fbd53498a5",
   "metadata": {
    "tags": []
   },
   "outputs": [],
   "source": [
    "faqs[\"faq_tags\"] = faqs.faq_tags.apply(lambda x: \"{\" + str(x)[1:-1] + \"}\")"
   ]
  },
  {
   "cell_type": "code",
   "execution_count": null,
   "id": "a20f0509-99d6-41da-ae06-b345feae7160",
   "metadata": {
    "tags": []
   },
   "outputs": [],
   "source": [
    "faqs.faq_tags"
   ]
  },
  {
   "cell_type": "code",
   "execution_count": null,
   "id": "cd8a2c4d-6712-4a5a-8741-48a1025e2300",
   "metadata": {
    "tags": []
   },
   "outputs": [],
   "source": [
    "(\n",
    "    faqs.loc[\n",
    "        faqs.faq_content_embedding.notnull(),\n",
    "        [\"faq_name\", \"faq_title\", \"faq_content\", \"faq_tags\", \"questions_usr\", \"question_ref\"]\n",
    "    ]\n",
    "    .rename(columns={\"faq_content\": \"faq_content_to_send\"})\n",
    "    .to_csv(\"../data/faqs_with_synthetic_questions.csv\", index=False)\n",
    ")"
   ]
  },
  {
   "cell_type": "markdown",
   "id": "aae1ee6c-1454-44d0-aebb-f84ff8ece35f",
   "metadata": {},
   "source": [
    "Validation with custom embeddings + WMD + scoring on the entire content:\n",
    "\n",
    "* Top 1 accuracy: 0.28\n",
    "* Top 5 accuracy: 0.59\n",
    "* Top 10 accuracy: 0.72\n"
   ]
  },
  {
   "cell_type": "markdown",
   "id": "463cec4f-fe12-4415-bc7b-cc7149c7460e",
   "metadata": {},
   "source": [
    "With Davinci?"
   ]
  },
  {
   "cell_type": "code",
   "execution_count": null,
   "id": "e081772d-51bd-4485-b6a0-53d9e42137e7",
   "metadata": {},
   "outputs": [],
   "source": [
    "model='text-davinci-003'"
   ]
  }
 ],
 "metadata": {
  "kernelspec": {
   "display_name": "Python [conda env:aaq_openai]",
   "language": "python",
   "name": "conda-env-aaq_openai-py"
  },
  "language_info": {
   "codemirror_mode": {
    "name": "ipython",
    "version": 3
   },
   "file_extension": ".py",
   "mimetype": "text/x-python",
   "name": "python",
   "nbconvert_exporter": "python",
   "pygments_lexer": "ipython3",
   "version": "3.9.0"
  }
 },
 "nbformat": 4,
 "nbformat_minor": 5
}
