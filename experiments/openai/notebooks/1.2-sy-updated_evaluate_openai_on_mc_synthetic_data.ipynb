{
 "cells": [
  {
   "cell_type": "markdown",
   "id": "b56d73bf-1725-4879-b486-35b0983eca7e",
   "metadata": {},
   "source": [
    "# Evaluating OpenAI Embeddings on MC Synthetic Data\n",
    "## 1. Data preparation\n",
    "\n",
    "Preprocess synthetic MomConnect data for testing OpenAI embeddings.\n",
    "\n",
    "We use synthetic questions in order to abide by our data sharing agreement.\n",
    "\n",
    "Ideally, we would split synthetic questions into the following:\n",
    "\n",
    "* reference questions: for question-question matching\n",
    "* training questions: for training BERT\n",
    "* test questions: for evaluating BERT or OpenAI\n",
    "\n",
    "But many FAQs only have 4 synthetic questions."
   ]
  },
  {
   "cell_type": "markdown",
   "id": "b6361de3-16ef-4e1c-bc74-00dd771530a2",
   "metadata": {},
   "source": [
    "### 1.1 Load FAQs and synthetic questions"
   ]
  },
  {
   "cell_type": "code",
   "execution_count": null,
   "id": "4e4fcbad-4716-438b-88ca-fe873c566acb",
   "metadata": {},
   "outputs": [],
   "source": [
    "import pandas as pd\n",
    "import s3fs\n",
    "\n",
    "\n",
    "fs = s3fs.S3FileSystem()\n",
    "s3_path = \"s3://praekelt-static-resources/experiment/data/[Sam] Helpdesk Q&A FAQ Content _ MOMZA AAQ _ Oct 2022.xlsx - Final FAQs for AAQ admin.csv\"\n",
    "\n",
    "with fs.open(s3_path) as f:\n",
    "    faqs = pd.read_csv(f)"
   ]
  },
  {
   "cell_type": "code",
   "execution_count": null,
   "id": "37f51221-3e99-449c-967c-2a7fc6752f42",
   "metadata": {
    "jupyter": {
     "outputs_hidden": true
    },
    "tags": []
   },
   "outputs": [],
   "source": [
    "faqs.head()"
   ]
  },
  {
   "cell_type": "code",
   "execution_count": null,
   "id": "bc38ddfe-cab7-42a9-896d-f54ef7ec748d",
   "metadata": {
    "tags": []
   },
   "outputs": [],
   "source": [
    "faqs.info()"
   ]
  },
  {
   "cell_type": "markdown",
   "id": "4ffdb81e-e3c7-494d-b91b-51fec4633287",
   "metadata": {},
   "source": [
    "### 1.2 Clean FAQs and synthetic questions"
   ]
  },
  {
   "cell_type": "code",
   "execution_count": null,
   "id": "f9e6458d-6c6c-45de-a080-f060fbeb7c02",
   "metadata": {},
   "outputs": [],
   "source": [
    "# Clean column names in FAQs file\n",
    "column_map = {\n",
    "    'VALIDATION questions (user generated)': 'questions_usr',\n",
    "    'SYNTHETIC questions': 'questions_syn',\n",
    "    'FAQ Content': 'faq_content',\n",
    "    'FAQ Name': 'faq_name',\n",
    "    'FAQ title': 'faq_title',\n",
    "    'TAGS (FINAL VERSION)': 'faq_tags',\n",
    "    'Trimester tag': 'trimester_tags',\n",
    "    'Week tags': 'week_tags',\n",
    "    'Added to Database': 'added',\n",
    "}\n",
    "\n",
    "faqs = faqs.rename(columns=column_map)"
   ]
  },
  {
   "cell_type": "code",
   "execution_count": null,
   "id": "169a2e1d-ce97-447e-971f-f40d1eabc17e",
   "metadata": {},
   "outputs": [],
   "source": [
    "# Keep only the data we need\n",
    "faqs = faqs.loc[faqs.added == \"Yes\", column_map.values()]"
   ]
  },
  {
   "cell_type": "code",
   "execution_count": null,
   "id": "bc695bf6-99ab-4552-998e-fb9b0336ccc2",
   "metadata": {},
   "outputs": [],
   "source": [
    "faqs[faqs[\"questions_syn\"].isnull() | faqs[\"questions_usr\"].isnull()]"
   ]
  },
  {
   "cell_type": "markdown",
   "id": "2b2c6f9e-7d67-4437-bf62-0b2c40d18e30",
   "metadata": {},
   "source": [
    "Clean up tags"
   ]
  },
  {
   "cell_type": "code",
   "execution_count": null,
   "id": "00ac2e7e-777f-490b-ba7c-2497ba5796c4",
   "metadata": {},
   "outputs": [],
   "source": [
    "# Remove tags with strikethrough in the google sheet\n",
    "inserts = { # faq_name: new tags\n",
    "    \"Preg - Shortness of breath\": \"['shortness', 'breath']\",\n",
    "    \"Preg - Safe foods to eat\": \"['safe', 'food']\",\n",
    "    \"Baby - Family planning & birth spacing\": \"['family', 'planning', 'birth', 'spacing']\",\n",
    "    \"Baby - Umbilical cord care\": \"['umbilical', 'cord', 'care']\",\n",
    "    \"HIV - Viral load\": \"['hiv', 'viral', 'load', 'arv']\",\n",
    "}\n",
    "\n",
    "for name, new_tags in inserts.items():\n",
    "    faqs.loc[faqs.faq_name == name, \"faq_tags\"] = new_tags"
   ]
  },
  {
   "cell_type": "code",
   "execution_count": null,
   "id": "bde8dcd5-0c54-48c0-a060-c029c443a2d1",
   "metadata": {},
   "outputs": [],
   "source": [
    "faqs[\"faq_tags\"] = faqs.faq_tags.apply(lambda x: x.replace(\"[\", \"{\").replace(\"]\", \"}\").replace(\"'\", \"\\\"\"))"
   ]
  },
  {
   "cell_type": "markdown",
   "id": "035dc8be-8943-4042-bb70-7258717250a3",
   "metadata": {},
   "source": [
    "Preprocess questions"
   ]
  },
  {
   "cell_type": "code",
   "execution_count": null,
   "id": "a33c8306-2b5a-4133-899f-cd2b95afaf07",
   "metadata": {},
   "outputs": [],
   "source": [
    "import re\n",
    "import numpy as np\n",
    "\n",
    "\n",
    "# Parse example questions column so each elemnt is an array of questions (we use numpy array so we can index them)\n",
    "for questions_col in [\"questions_syn\", \"questions_usr\"]:\n",
    "    faqs.loc[:, questions_col] = faqs[questions_col].apply(\n",
    "        lambda x: np.asarray(\n",
    "            re.sub('\\n+', \"\\n\", x.strip()).split('\\n')\n",
    "        ) if isinstance(x, str) else np.asarray([])\n",
    "    )"
   ]
  },
  {
   "cell_type": "markdown",
   "id": "184361f1-8069-453c-82f4-0f01ec5d399f",
   "metadata": {},
   "source": [
    "Check for empty questions.\n",
    "\n",
    "1. Empty question strings?"
   ]
  },
  {
   "cell_type": "code",
   "execution_count": null,
   "id": "62a76193-2729-4f9b-b477-4eec01a33a45",
   "metadata": {},
   "outputs": [],
   "source": [
    "faqs[faqs.questions_usr.apply(lambda x: any(len(y) == 0 for y in x))]"
   ]
  },
  {
   "cell_type": "markdown",
   "id": "c635d99d-94d2-4151-91c6-7ebf4f8ca48a",
   "metadata": {},
   "source": [
    "2. Empty set of questions?\n"
   ]
  },
  {
   "cell_type": "code",
   "execution_count": null,
   "id": "5f0c4aee-5f21-40f5-b0f4-db62a1ca601a",
   "metadata": {},
   "outputs": [],
   "source": [
    "faqs[faqs.questions_usr.apply(len) == 0]"
   ]
  },
  {
   "cell_type": "markdown",
   "id": "2a80b580-c3f0-4db9-a841-c3afcf9405d1",
   "metadata": {},
   "source": [
    "We need at least 4 questions per FAQ to have enough training data for other models (e.g. BERT)"
   ]
  },
  {
   "cell_type": "code",
   "execution_count": null,
   "id": "e5134892-4944-4fa3-9078-b1b01922f552",
   "metadata": {},
   "outputs": [],
   "source": [
    "# Keep FAQs with at least 4 or more example questions\n",
    "print(f\"FAQs that had been added to DB: {len(faqs)}\")\n",
    "faqs = faqs[faqs.questions_usr.apply(lambda x: len(x)) >= 4]\n",
    "print(f\"FAQs with at least 4 synthetic questions: {len(faqs)}\")"
   ]
  },
  {
   "cell_type": "markdown",
   "id": "b37e7d96-947f-41b9-a76d-e65501942759",
   "metadata": {},
   "source": [
    "Check for content duplicates"
   ]
  },
  {
   "cell_type": "code",
   "execution_count": null,
   "id": "3ada171b-a6f3-442d-a7ff-897108c06ab5",
   "metadata": {},
   "outputs": [],
   "source": [
    "faqs[faqs.faq_content.duplicated(keep=False)]"
   ]
  },
  {
   "cell_type": "markdown",
   "id": "3c5de9fc-7a72-4cf1-bdf7-928f5523569b",
   "metadata": {},
   "source": [
    "\"Baby - Newborn care\" has the wrong content (duplicated of \"HIV - Breastfeeding & weaning\") so I will drop it."
   ]
  },
  {
   "cell_type": "code",
   "execution_count": null,
   "id": "6a41b400-7ac0-43b9-8633-b9bc579c3a0e",
   "metadata": {},
   "outputs": [],
   "source": [
    "faqs = faqs[faqs.faq_name != \"Baby - Newborn care\"]"
   ]
  },
  {
   "cell_type": "markdown",
   "id": "3af2ff04-dcf1-4a3b-ac10-bc68201de682",
   "metadata": {},
   "source": [
    "Histogram of number of questions per FAQ"
   ]
  },
  {
   "cell_type": "code",
   "execution_count": null,
   "id": "ff454c8f-62d1-4fdf-bf3d-c839ddca407b",
   "metadata": {},
   "outputs": [],
   "source": [
    "faqs.questions_syn.apply(lambda x: len(x)).hist()"
   ]
  },
  {
   "cell_type": "code",
   "execution_count": null,
   "id": "d1a86038-3fff-40f8-a6f3-d4ec32ea56dd",
   "metadata": {},
   "outputs": [],
   "source": [
    "faqs.questions_usr.apply(lambda x: len(x)).hist()"
   ]
  },
  {
   "cell_type": "markdown",
   "id": "63e019a1-0cb4-4279-bc39-e60f84b840cd",
   "metadata": {},
   "source": [
    "Split data"
   ]
  },
  {
   "cell_type": "code",
   "execution_count": null,
   "id": "5cbafc9c-c125-45f8-b863-0aaf0a4491e4",
   "metadata": {},
   "outputs": [],
   "source": [
    "from numpy.random import MT19937\n",
    "from numpy.random import RandomState, SeedSequence\n",
    "\n",
    "# (Only relevant for question-question matching)\n",
    "# Split into reference questions (tied to the FAQ) and example questions for training\n",
    "rs = RandomState(MT19937(SeedSequence(123456789)))\n",
    "\n",
    "def get_ref_split(l):\n",
    "    r = np.arange(len(l))\n",
    "    rs.shuffle(r)\n",
    "    return r[:2], r[2:]\n",
    "\n",
    "faqs.loc[:, \"_splits\"] = faqs.questions_usr.apply(get_ref_split)\n",
    "faqs.loc[:, \"question_ref\"] = faqs.apply(lambda x: x.questions_usr[x._splits[0]], axis=1)\n",
    "faqs.loc[:, \"question\"] = faqs.apply(lambda x: x.questions_usr[x._splits[1]], axis=1)\n",
    "\n",
    "# Cast numpy arrays into lists\n",
    "for col in ['question', 'question_ref', 'questions_usr',]:\n",
    "    faqs[col] = faqs[col].apply(lambda x: list(x))"
   ]
  },
  {
   "cell_type": "code",
   "execution_count": null,
   "id": "efc918c1-f091-470c-8c42-c01f5996b030",
   "metadata": {
    "tags": []
   },
   "outputs": [],
   "source": [
    "faqs.faq_content.nunique()"
   ]
  },
  {
   "cell_type": "code",
   "execution_count": null,
   "id": "b160ec0d-9e3a-47c2-920d-ab51db0e22e2",
   "metadata": {
    "tags": []
   },
   "outputs": [],
   "source": [
    "faqs.faq_name.nunique()"
   ]
  },
  {
   "cell_type": "code",
   "execution_count": null,
   "id": "90278099-24db-4855-8379-b001119f7b3b",
   "metadata": {
    "tags": []
   },
   "outputs": [],
   "source": [
    "faqs.isnull().any()"
   ]
  },
  {
   "cell_type": "markdown",
   "id": "4588a872-d262-4fd9-bf60-95f0ae812a41",
   "metadata": {},
   "source": [
    "Distribution of number of synthetic questions per FAQ (excluding 2 reference questions, which we'll use for validation)"
   ]
  },
  {
   "cell_type": "code",
   "execution_count": null,
   "id": "428ca8ef-bbf0-472f-8893-a95074b713cd",
   "metadata": {},
   "outputs": [],
   "source": [
    "faqs._splits.apply(lambda x: len(x[1])).hist(bins=10)"
   ]
  },
  {
   "cell_type": "code",
   "execution_count": null,
   "id": "4d242623-f1b2-4aab-a11e-1a50d12aaa10",
   "metadata": {
    "tags": []
   },
   "outputs": [],
   "source": [
    "!pip install plotly"
   ]
  },
  {
   "cell_type": "code",
   "execution_count": null,
   "id": "10159d9c-ce2d-4f8e-9f13-34c87889b04a",
   "metadata": {
    "tags": []
   },
   "outputs": [],
   "source": [
    "!pip install scipy"
   ]
  },
  {
   "cell_type": "code",
   "execution_count": null,
   "id": "d655559d-2412-4ee8-accc-11b81a10f364",
   "metadata": {
    "tags": []
   },
   "outputs": [],
   "source": [
    "!pip install scikit-learn"
   ]
  },
  {
   "cell_type": "markdown",
   "id": "37be71e7-d6fb-4b83-958b-48e788603d77",
   "metadata": {},
   "source": [
    "## 2. Evaluate OpenAI embeddings"
   ]
  },
  {
   "cell_type": "code",
   "execution_count": null,
   "id": "aef0ae9b-c6b4-42b6-9fb2-922ed036280c",
   "metadata": {
    "tags": []
   },
   "outputs": [],
   "source": [
    "import tiktoken\n",
    "\n",
    "from openai.embeddings_utils import get_embedding, get_embeddings\n",
    "\n",
    "\n",
    "# embedding model parameters\n",
    "embedding_model = \"text-embedding-ada-002\"\n",
    "embedding_encoding = \"cl100k_base\"  # this the encoding for text-embedding-ada-002"
   ]
  },
  {
   "cell_type": "markdown",
   "id": "63485a93-bfb0-4333-be7a-43facae4140f",
   "metadata": {},
   "source": [
    "### 2.1 Cost estimation"
   ]
  },
  {
   "cell_type": "code",
   "execution_count": null,
   "id": "b3f6d70d-04b3-46ad-bb85-285c93ece69f",
   "metadata": {
    "tags": []
   },
   "outputs": [],
   "source": [
    "encoding = tiktoken.get_encoding(embedding_encoding)\n",
    "\n",
    "faqs_n_tokens = faqs.faq_content.apply(lambda x: len(encoding.encode(x)))\n",
    "faqs_n_tokens.describe()"
   ]
  },
  {
   "cell_type": "code",
   "execution_count": null,
   "id": "306ad7b7-86ae-4c9b-844f-cbf6b831d385",
   "metadata": {
    "tags": []
   },
   "outputs": [],
   "source": [
    "faqs_n_tokens.sum()"
   ]
  },
  {
   "cell_type": "markdown",
   "id": "27d9d2af-e94a-45e2-8cf4-d4502392c325",
   "metadata": {},
   "source": [
    "OpenAI rate limits for pay-as-you-go (cf. [here](https://github.com/openai/openai-cookbook/blob/main/examples/How_to_handle_rate_limits.ipynb)):\n",
    "\n",
    "* 60 requests / minute\n",
    "* 250,000 davinci tokens / minute (and proportionally more for cheaper models)\n",
    "\n",
    "Pricing\n",
    "\n",
    "* \\$0.0004  / 1K tokens for Ada\n",
    "* \\$0.0005  / 1K tokens for Babbage\n",
    "* \\$0.0020  / 1K tokens for Curie\n",
    "* \\$0.0200  / 1K tokens for Davinci"
   ]
  },
  {
   "cell_type": "code",
   "execution_count": null,
   "id": "d0ac8911-e536-4247-807c-4e038e72fcf7",
   "metadata": {
    "tags": []
   },
   "outputs": [],
   "source": [
    "pricing = {\n",
    "    \"Ada\": 0.0004 / 1000,\n",
    "    \"Babbage\": 0.0005 / 1000,\n",
    "    \"Curie\": 0.002 / 1000,\n",
    "    \"Davinci\": 0.02 / 1000\n",
    "}\n",
    "\n",
    "print(\"Estimated cost for all FAQs\")\n",
    "for model, rate in pricing.items():\n",
    "    print(f\"{model}: ${rate * faqs_n_tokens.sum():.2f}\")"
   ]
  },
  {
   "cell_type": "markdown",
   "id": "27b50e4f-af97-4366-8c8a-8eb02b856a5c",
   "metadata": {},
   "source": [
    "### 2.2 Get embeddings for FAQ"
   ]
  },
  {
   "cell_type": "code",
   "execution_count": null,
   "id": "ff402ca6-51fb-4ea0-b675-033ad02575a2",
   "metadata": {},
   "outputs": [],
   "source": [
    "faq_embeddings = get_embeddings(faqs.faq_content.tolist(), engine=embedding_model)"
   ]
  },
  {
   "cell_type": "code",
   "execution_count": null,
   "id": "9ca7fff9-f418-41af-b547-30d014a46418",
   "metadata": {
    "tags": []
   },
   "outputs": [],
   "source": [
    "print(len(faq_embeddings))\n",
    "print(len(faq_embeddings[0]))"
   ]
  },
  {
   "cell_type": "code",
   "execution_count": null,
   "id": "7eb63cca-e2f4-48e5-825a-64ee8b0d6483",
   "metadata": {
    "tags": []
   },
   "outputs": [],
   "source": [
    "!pip install pyarrow"
   ]
  },
  {
   "cell_type": "code",
   "execution_count": null,
   "id": "4538a869-6058-4701-b143-a9a22f88de0a",
   "metadata": {
    "tags": []
   },
   "outputs": [],
   "source": [
    "faqs[\"faq_content_embedding\"] = pd.Series(faq_embeddings, index=faqs.index).apply(np.asarray)\n",
    "faqs[[\"faq_name\", \"faq_title\", \"faq_content_embedding\"]].to_parquet(\"../data/faq_embeddings_updated.parquet\")"
   ]
  },
  {
   "cell_type": "code",
   "execution_count": null,
   "id": "6183646f-8611-43e6-a56a-dcd4d4759da6",
   "metadata": {
    "tags": []
   },
   "outputs": [],
   "source": [
    "faqs[faqs.faq_content_embedding.isnull()]"
   ]
  },
  {
   "cell_type": "markdown",
   "id": "75ceacc6-09ac-400f-a54c-f35b5cabf8c7",
   "metadata": {},
   "source": [
    "### 2.3 Get embeddings for queries\n",
    "\n",
    "#### Check query data"
   ]
  },
  {
   "cell_type": "code",
   "execution_count": null,
   "id": "5ff95095-7aff-4c23-aa9f-b2b1b34e69fd",
   "metadata": {
    "tags": []
   },
   "outputs": [],
   "source": [
    "validation_data = faqs.explode(\"question_ref\").reset_index()"
   ]
  },
  {
   "cell_type": "code",
   "execution_count": null,
   "id": "8a508b23-8537-45be-bb51-dc9ad408a1e3",
   "metadata": {
    "tags": []
   },
   "outputs": [],
   "source": [
    "validation_data.head()"
   ]
  },
  {
   "cell_type": "code",
   "execution_count": null,
   "id": "649db3fa-3fe7-47ff-a4f9-e2113a24567a",
   "metadata": {
    "tags": []
   },
   "outputs": [],
   "source": [
    "validation_data.loc[validation_data.question_ref.apply(len) > 250, \"question_ref\"].tolist()"
   ]
  },
  {
   "cell_type": "code",
   "execution_count": null,
   "id": "8499e194-b96f-4f1e-87d5-6414854fadc6",
   "metadata": {
    "tags": []
   },
   "outputs": [],
   "source": [
    "validation_data.question_ref.apply(len).hist()"
   ]
  },
  {
   "cell_type": "markdown",
   "id": "896d18c9-c049-4a14-bb0c-dbfe7ebfab69",
   "metadata": {},
   "source": [
    "#### Get embeddings for queries"
   ]
  },
  {
   "cell_type": "code",
   "execution_count": null,
   "id": "6e2ef22d-f17c-440e-96db-d618acad9ec8",
   "metadata": {
    "tags": []
   },
   "outputs": [],
   "source": [
    "validation_data_questions = validation_data.question_ref.tolist()"
   ]
  },
  {
   "cell_type": "code",
   "execution_count": null,
   "id": "5a273cf0-7e39-407e-92c5-ab677fb94021",
   "metadata": {
    "tags": []
   },
   "outputs": [],
   "source": [
    "query_embeddings_list = []\n",
    "failed_indices = []\n",
    "for i, query in enumerate(validation_data_questions):\n",
    "    try:\n",
    "        query_embeddings_list.append(get_embedding(query, engine=embedding_model))\n",
    "    except Exception as e:\n",
    "        print(f\"{i}: {e}\")\n",
    "        failed_indices.append(i)"
   ]
  },
  {
   "cell_type": "code",
   "execution_count": null,
   "id": "f2a80d23-978c-4504-aae3-812d9c5d6eac",
   "metadata": {},
   "outputs": [],
   "source": [
    "validation_data.shape"
   ]
  },
  {
   "cell_type": "code",
   "execution_count": null,
   "id": "841ba0be-948f-4bd2-9c9f-873bb84f9c77",
   "metadata": {},
   "outputs": [],
   "source": [
    "len(validation_data_questions)"
   ]
  },
  {
   "cell_type": "code",
   "execution_count": null,
   "id": "e5f8d12b-4919-4298-954a-1ce387f94802",
   "metadata": {},
   "outputs": [],
   "source": [
    "len(query_embeddings_list)"
   ]
  },
  {
   "cell_type": "code",
   "execution_count": null,
   "id": "c11bc7a7-b5df-4320-af63-7dcba78346f9",
   "metadata": {},
   "outputs": [],
   "source": [
    "faqs.faq_content_embedding.isnull().any()"
   ]
  },
  {
   "cell_type": "markdown",
   "id": "4aae8424-6ce6-4f11-8db0-c2aa59702b85",
   "metadata": {},
   "source": [
    "### 2.4 Compute top K accuracies"
   ]
  },
  {
   "cell_type": "code",
   "execution_count": null,
   "id": "92380a69-0cfd-4e85-8ac9-29378f450deb",
   "metadata": {
    "tags": []
   },
   "outputs": [],
   "source": [
    "from openai.embeddings_utils import cosine_similarity\n",
    "\n",
    "\n",
    "def get_top_k_faqs_for_embedding(query_embedding, k=10):\n",
    "    faqs[\"current_query_cossim\"] = faqs.faq_content_embedding.apply(lambda x: cosine_similarity(x, query_embedding))\n",
    "    \n",
    "    results = (\n",
    "        faqs.sort_values(\"current_query_cossim\", ascending=False)\n",
    "        .head(k)\n",
    "        .faq_name\n",
    "        .tolist()\n",
    "    )\n",
    "    del faqs[\"current_query_cossim\"]\n",
    "    return results"
   ]
  },
  {
   "cell_type": "code",
   "execution_count": null,
   "id": "4693ff04-c875-4ca0-8222-e6e22033bb6b",
   "metadata": {
    "tags": []
   },
   "outputs": [],
   "source": [
    "validation_data[\"top10_pred\"] = list(map(get_top_k_faqs_for_embedding, query_embeddings_list))"
   ]
  },
  {
   "cell_type": "code",
   "execution_count": null,
   "id": "f1de2219-06bb-4311-9033-0c3d0ab07142",
   "metadata": {
    "tags": []
   },
   "outputs": [],
   "source": [
    "for k in [1, 3, 5, 7, 10]:\n",
    "    validation_data[f\"isin_top{k}\"] = validation_data.apply(lambda row: row.faq_name in row.top10_pred[:k], axis=1)"
   ]
  },
  {
   "cell_type": "code",
   "execution_count": null,
   "id": "5c4c3853-3594-4c18-94c0-ad217661fccb",
   "metadata": {
    "tags": []
   },
   "outputs": [],
   "source": [
    "for k in [1, 3, 5, 7, 10]:\n",
    "    acc=validation_data[f'isin_top{k}'].mean()\n",
    "    print(f\"Top {k} accuracy: {acc:.1%}\")"
   ]
  },
  {
   "cell_type": "markdown",
   "id": "cd02425b-4cc6-4795-9fe6-effa528361a5",
   "metadata": {},
   "source": [
    "## 3. Save validation data to upload to S3"
   ]
  },
  {
   "cell_type": "code",
   "execution_count": null,
   "id": "cb9ca8e3-f7a9-4578-8e6b-f93d8e11802e",
   "metadata": {
    "tags": []
   },
   "outputs": [],
   "source": [
    "validation_data[[\"question_ref\", \"faq_name\", \"faq_title\", \"faq_content\"]].to_csv(\"../data/synthetic_validation_data_updated.csv\", index=False)"
   ]
  },
  {
   "cell_type": "code",
   "execution_count": null,
   "id": "cd8a2c4d-6712-4a5a-8741-48a1025e2300",
   "metadata": {
    "tags": []
   },
   "outputs": [],
   "source": [
    "(\n",
    "    faqs.loc[\n",
    "        faqs.faq_content_embedding.notnull(),\n",
    "        [\"faq_name\", \"faq_title\", \"faq_content\", \"faq_tags\", \"questions_usr\", \"question_ref\"]\n",
    "    ]\n",
    "    .rename(columns={\"faq_content\": \"faq_content_to_send\"})\n",
    "    .to_csv(\"../data/faqs_with_synthetic_questions_updated.csv\", index=False)\n",
    ")"
   ]
  },
  {
   "cell_type": "markdown",
   "id": "aae1ee6c-1454-44d0-aebb-f84ff8ece35f",
   "metadata": {},
   "source": [
    "Validation with custom embeddings + WMD + scoring on the entire content:\n",
    "\n",
    "* Top 1 accuracy: 0.28\n",
    "* Top 5 accuracy: 0.63\n",
    "* Top 10 accuracy: 0.75"
   ]
  },
  {
   "cell_type": "markdown",
   "id": "85b04ff6-8483-48aa-a188-2788dfa1f6e9",
   "metadata": {},
   "source": [
    "Google news pretrained embedding + StepwiseKeyedVectorScorer + tags\n",
    "\n",
    "* Top 1 accuracy: 0.29\n",
    "* Top 5 accuracy: 0.50\n",
    "* Top 10 accuracy: 0.68"
   ]
  },
  {
   "cell_type": "markdown",
   "id": "54d3590e-ae38-4dfa-a7a4-580da43c8831",
   "metadata": {},
   "source": [
    "# _Fix tags_"
   ]
  },
  {
   "cell_type": "code",
   "execution_count": null,
   "id": "877fbb29-1c48-4ec1-81e8-09500caf2de9",
   "metadata": {},
   "outputs": [],
   "source": [
    "import pandas as pd\n",
    "_df = pd.read_csv(\"../data/faqs_with_synthetic_questions_updated.csv\")"
   ]
  },
  {
   "cell_type": "code",
   "execution_count": null,
   "id": "87cca6d2-3024-46ee-ae92-6b12dcdbdf33",
   "metadata": {},
   "outputs": [],
   "source": [
    "_df[\"faq_tags\"] = _df.faq_tags.str.replace(\",}\", \"}\")"
   ]
  },
  {
   "cell_type": "code",
   "execution_count": null,
   "id": "786ce0fd-b3ea-42b7-b72e-eadce51f5404",
   "metadata": {},
   "outputs": [],
   "source": [
    "_df.loc[61, \"faq_tags\"]"
   ]
  },
  {
   "cell_type": "code",
   "execution_count": null,
   "id": "78a426bf-2836-4a98-a071-b0400903a805",
   "metadata": {},
   "outputs": [],
   "source": [
    "_df.loc[61, \"faq_tags\"]"
   ]
  },
  {
   "cell_type": "code",
   "execution_count": null,
   "id": "7aaffebd-61c1-4b3f-b9f3-2ee0128b46d8",
   "metadata": {},
   "outputs": [],
   "source": [
    "_df.to_csv(\"../data/faqs_with_synthetic_questions_updated.csv\", index=False)"
   ]
  }
 ],
 "metadata": {
  "kernelspec": {
   "display_name": "Python [conda env:aaq_openai] *",
   "language": "python",
   "name": "conda-env-aaq_openai-py"
  },
  "language_info": {
   "codemirror_mode": {
    "name": "ipython",
    "version": 3
   },
   "file_extension": ".py",
   "mimetype": "text/x-python",
   "name": "python",
   "nbconvert_exporter": "python",
   "pygments_lexer": "ipython3",
   "version": "3.9.0"
  }
 },
 "nbformat": 4,
 "nbformat_minor": 5
}
