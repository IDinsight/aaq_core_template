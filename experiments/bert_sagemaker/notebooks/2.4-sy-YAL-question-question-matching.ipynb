{
 "cells": [
  {
   "cell_type": "markdown",
   "id": "a37475d2",
   "metadata": {},
   "source": [
    "# Question-question matching (classifier)\n",
    "\n",
    "* input: `[CLS] <user query> [SEP] <example question j for content i> [SEP]` for all `i, j`"
   ]
  },
  {
   "cell_type": "code",
   "execution_count": null,
   "id": "847c1a53",
   "metadata": {},
   "outputs": [],
   "source": [
    "import numpy as np\n",
    "import pandas as pd\n",
    "import boto3\n",
    "import sagemaker\n",
    "\n",
    "sess = sagemaker.Session()\n",
    "sagemaker_session_bucket = None\n",
    "if sagemaker_session_bucket is None and sess is not None:\n",
    "    sagemaker_session_bucket = sess.default_bucket()\n",
    "\n",
    "role = sagemaker.get_execution_role()\n",
    "sess = sagemaker.Session(default_bucket=sagemaker_session_bucket)"
   ]
  },
  {
   "cell_type": "code",
   "execution_count": null,
   "id": "ed8f05d8",
   "metadata": {},
   "outputs": [],
   "source": [
    "import botocore\n",
    "from datasets.filesystems import S3FileSystem\n",
    "from datasets import load_dataset, Dataset\n",
    "\n",
    "s3 = S3FileSystem()\n",
    "s3_bucket = 'praekelt-static-resources'\n",
    "s3_prefix='experiment/data/yal/question-question-matching'\n",
    "\n",
    "training_input_path = f's3://{s3_bucket}/{s3_prefix}/train'\n",
    "test_short_input_path = f's3://{s3_bucket}/{s3_prefix}/test_short'\n",
    "test_full_input_path = f's3://{s3_bucket}/{s3_prefix}/test'\n",
    "\n",
    "training_input_path"
   ]
  },
  {
   "cell_type": "code",
   "execution_count": null,
   "id": "b50e2227",
   "metadata": {},
   "outputs": [],
   "source": [
    "from sagemaker.huggingface import HuggingFace\n",
    "\n",
    "# hyperparameters, which are passed into the training job\n",
    "hyperparameters = {\n",
    "    'epochs': 5,\n",
    "    'train_batch_size': 32,\n",
    "    'model_name':'distilbert-base-uncased'\n",
    "}\n",
    "resource_tags = [\n",
    "    {\"Key\":'Project', \"Value\": 'praekelt-skoll'}, \n",
    "    {\"Key\":'BillingCode', \"Value\":'praekelt-skoll'}\n",
    "]\n",
    "huggingface_estimator = HuggingFace(\n",
    "    entry_point='train-classification.py',\n",
    "    source_dir='./scripts',\n",
    "    instance_type='ml.g4dn.2xlarge',\n",
    "    instance_count=1,\n",
    "    role=role,\n",
    "    transformers_version='4.12',\n",
    "    pytorch_version='1.9',\n",
    "    py_version='py38',\n",
    "    hyperparameters=hyperparameters,\n",
    "    tags=resource_tags\n",
    ")"
   ]
  },
  {
   "cell_type": "code",
   "execution_count": null,
   "id": "187c9864",
   "metadata": {
    "jupyter": {
     "outputs_hidden": true
    }
   },
   "outputs": [],
   "source": [
    "%%capture\n",
    "# starting the train job with our uploaded datasets as input\n",
    "huggingface_estimator.fit({'train': training_input_path, 'test': test_short_input_path})"
   ]
  },
  {
   "cell_type": "code",
   "execution_count": null,
   "id": "69f34996",
   "metadata": {},
   "outputs": [],
   "source": [
    "huggingface_estimator.model_data"
   ]
  },
  {
   "cell_type": "markdown",
   "id": "dfe7ea9c",
   "metadata": {},
   "source": [
    "# Evaluate"
   ]
  },
  {
   "cell_type": "code",
   "execution_count": null,
   "id": "c122a110",
   "metadata": {},
   "outputs": [],
   "source": [
    "from sagemaker.huggingface import HuggingFaceModel\n",
    "\n",
    "huggingface_estimator = HuggingFaceModel(\n",
    "    role=role, \n",
    "    model_data='s3://sagemaker-af-south-1-678681925278/huggingface-pytorch-training-2022-07-27-08-03-47-876/output/model.tar.gz',\n",
    "    image_uri='626614931356.dkr.ecr.af-south-1.amazonaws.com/huggingface-pytorch-training:1.9-transformers4.12-gpu-py38-cu111-ubuntu20.04'\n",
    ")"
   ]
  },
  {
   "cell_type": "markdown",
   "id": "e4b21b0a",
   "metadata": {},
   "source": [
    "# FAQ Ranking\n",
    "\n",
    "\n",
    "## Batch transform\n"
   ]
  },
  {
   "cell_type": "code",
   "execution_count": null,
   "id": "e64c9a1c",
   "metadata": {},
   "outputs": [],
   "source": [
    "from datasets import load_from_disk\n",
    "untokenized_test_input_path = f's3://{s3_bucket}/{s3_prefix}/test_untokenized'\n",
    "untokenized_test_dataset = load_from_disk(untokenized_test_input_path, fs=s3)"
   ]
  },
  {
   "cell_type": "code",
   "execution_count": null,
   "id": "f5bc2006",
   "metadata": {},
   "outputs": [],
   "source": [
    "batch_df = untokenized_test_dataset.to_pandas()\n",
    "batch_df.head()"
   ]
  },
  {
   "cell_type": "code",
   "execution_count": null,
   "id": "5bf67da9",
   "metadata": {},
   "outputs": [],
   "source": [
    "batch_df.question.nunique()"
   ]
  },
  {
   "cell_type": "code",
   "execution_count": null,
   "id": "62ed0582",
   "metadata": {},
   "outputs": [],
   "source": [
    "import re\n",
    "\n",
    "whitespace = re.compile('\\s+')"
   ]
  },
  {
   "cell_type": "code",
   "execution_count": null,
   "id": "c4f53a5d",
   "metadata": {},
   "outputs": [],
   "source": [
    "batch_inputs = batch_df.apply(\n",
    "    lambda example: \n",
    "    '[CLS] ' + whitespace.sub(' ', example.question) + ' [SEP] ' + whitespace.sub(' ', example.question_ref) + ' [SEP]', \n",
    "    axis=1\n",
    ")"
   ]
  },
  {
   "cell_type": "code",
   "execution_count": null,
   "id": "020b2582",
   "metadata": {},
   "outputs": [],
   "source": [
    "batch_inputs.tolist()[0]"
   ]
  },
  {
   "cell_type": "code",
   "execution_count": null,
   "id": "234ac73e",
   "metadata": {},
   "outputs": [],
   "source": [
    "import csv\n",
    "import json\n",
    "from sagemaker.s3 import S3Uploader,s3_path_join\n",
    "\n",
    "# datset files\n",
    "dataset_jsonl_file = \"question_question_pair_score.jsonl\"\n",
    "\n",
    "with open(dataset_jsonl_file, \"w+\") as outfile:\n",
    "    for text in batch_inputs.tolist():\n",
    "        input_dict = {'inputs': text.replace(\"@\",\"\")}\n",
    "        json.dump(input_dict, outfile)\n",
    "        outfile.write('\\n')\n",
    "\n",
    "# uploads a given file to S3.\n",
    "batch_transform_s3_prefix = 's3://praekelt-static-resources/experiment/outputs/batch-transform'\n",
    "input_s3_path = s3_path_join(batch_transform_s3_prefix,\"input.jsonl\")\n",
    "output_s3_path = s3_path_join(batch_transform_s3_prefix,\"output\")\n",
    "s3_file_uri = S3Uploader.upload(dataset_jsonl_file,input_s3_path)\n",
    "\n",
    "print(f\"{dataset_jsonl_file} uploaded to {s3_file_uri}\")"
   ]
  },
  {
   "cell_type": "code",
   "execution_count": null,
   "id": "cd151bbb",
   "metadata": {},
   "outputs": [],
   "source": [
    "%%capture\n",
    "\n",
    "resource_tags = [\n",
    "    {\"Key\":'Project', \"Value\": 'praekelt-skoll'}, \n",
    "    {\"Key\":'BillingCode', \"Value\":'praekelt-skoll'},\n",
    "    {\"Key\": 'model_type', \"Value\": 'question-question-pair-score'}\n",
    "]\n",
    "\n",
    "# create Transformer to run our batch job\n",
    "batch_job = huggingface_estimator.transformer(\n",
    "    instance_count=1,\n",
    "    instance_type='ml.g4dn.2xlarge',\n",
    "    output_path=output_s3_path, # we are using the same s3 path to save the output with the input\n",
    "    strategy='SingleRecord',\n",
    "    tags=resource_tags,\n",
    ")\n",
    "\n",
    "# starts batch transform job and uses s3 data as input\n",
    "batch_job.transform(\n",
    "    data=s3_file_uri,\n",
    "    content_type='application/json',    \n",
    "    split_type='Line'\n",
    ")"
   ]
  },
  {
   "cell_type": "code",
   "execution_count": null,
   "id": "9f3bc037",
   "metadata": {},
   "outputs": [],
   "source": [
    "import json\n",
    "from sagemaker.s3 import S3Downloader\n",
    "from ast import literal_eval\n",
    "# creating s3 uri for result file -> input file + .out\n",
    "output_file = f\"{dataset_jsonl_file}.out\"\n",
    "output_path = s3_path_join(output_s3_path,output_file)\n",
    "\n",
    "# download file\n",
    "S3Downloader.download(output_path,'.')\n",
    "\n",
    "batch_transform_result = []\n",
    "with open(output_file) as f:\n",
    "    for line in f:\n",
    "        # converts jsonline array to normal array\n",
    "        line = \"[\" + line.replace(\"[\",\"\").replace(\"]\",\",\") + \"]\"\n",
    "        batch_transform_result = literal_eval(line) \n",
    "        \n",
    "# print results \n",
    "print(batch_transform_result[:3])"
   ]
  },
  {
   "cell_type": "markdown",
   "id": "162aa25c",
   "metadata": {},
   "source": [
    "## Real-time prediction Ranking"
   ]
  },
  {
   "cell_type": "markdown",
   "id": "46b3a168",
   "metadata": {},
   "source": [
    "Real-time prediction"
   ]
  },
  {
   "cell_type": "code",
   "execution_count": null,
   "id": "e776d44f",
   "metadata": {},
   "outputs": [],
   "source": [
    "batch_df.head()"
   ]
  },
  {
   "cell_type": "code",
   "execution_count": null,
   "id": "151e6344",
   "metadata": {},
   "outputs": [],
   "source": [
    "batch_df.shape"
   ]
  },
  {
   "cell_type": "code",
   "execution_count": null,
   "id": "8ab70c0b",
   "metadata": {},
   "outputs": [],
   "source": [
    "predictor = huggingface_estimator.deploy(1, instance_type='ml.g4dn.xlarge', tags=resource_tags)"
   ]
  },
  {
   "cell_type": "code",
   "execution_count": null,
   "id": "5a5c2a95",
   "metadata": {},
   "outputs": [],
   "source": [
    "pred_results = {\n",
    "    'faq_id': [],\n",
    "    'actual': [],\n",
    "    'predicted': [],\n",
    "    'question': [],\n",
    "    'question_ref': [],\n",
    "    'context': [],\n",
    "}\n",
    "\n",
    "for i, prediction in enumerate(batch_transform_result):\n",
    "    score = int(prediction['label'] == 'LABEL_0') * (1 - prediction['score']) + int(prediction['label'] == 'LABEL_1') * prediction['score']\n",
    "    example = batch_df.iloc[i]\n",
    "    pred_results['faq_id'].append(example['faq_id'])\n",
    "    pred_results['actual'].append(float(example['label']))\n",
    "    pred_results['predicted'].append(score)\n",
    "    pred_results['question'].append(example['question'])\n",
    "    pred_results['question_ref'].append(example['question_ref'])\n",
    "    pred_results['context'].append(example['faq_content_to_send'])"
   ]
  },
  {
   "cell_type": "code",
   "execution_count": null,
   "id": "f0707341",
   "metadata": {},
   "outputs": [],
   "source": [
    "pred = pd.DataFrame(pred_results)\n",
    "pred.to_pickle(s3_path_join(output_s3_path,'predictions_question_question_pair_score.pkl')\n",
    "pred.plot.scatter(x='actual', y='predicted')"
   ]
  },
  {
   "cell_type": "code",
   "execution_count": null,
   "id": "2272acfb",
   "metadata": {},
   "outputs": [],
   "source": [
    "output_s3_path"
   ]
  },
  {
   "cell_type": "markdown",
   "id": "6f1e8cd9",
   "metadata": {},
   "source": [
    "Check ranking quality\n",
    "\n",
    "- for each question, want to average or max the scores across multiple question_refs"
   ]
  },
  {
   "cell_type": "markdown",
   "id": "21ecbe26",
   "metadata": {},
   "source": [
    "### TODO: Pool scores across multiple...###"
   ]
  },
  {
   "cell_type": "code",
   "execution_count": null,
   "id": "77b033ba",
   "metadata": {},
   "outputs": [],
   "source": [
    "from collections import defaultdict\n",
    "ranking_accuracy = defaultdict(list)\n",
    "top_n = [1, 3, 5, 7, 10]\n",
    "\n",
    "pred_avged = pred.drop(columns=[\"question_ref\"]).drop_duplicates()\n",
    "pred_avged.loc[:, \"predicted\"] = pred.groupby([\"question\", \"question_ref\"]).predicted.mean()\n",
    "\n",
    "\n",
    "for question, gdf in pred.groupby(\"question\"):\n",
    "    _df = gdf.sort_values(by='predicted', ascending=False)\n",
    "    for n in top_n:\n",
    "        ranking_accuracy[f\"top_{n}\"].append((_df[\"actual\"].iloc[:n] == 1.0).any())"
   ]
  },
  {
   "cell_type": "code",
   "execution_count": null,
   "id": "1c198b8f",
   "metadata": {},
   "outputs": [],
   "source": [
    "ranking_acc_result = dict()\n",
    "for k, v in ranking_accuracy.items():\n",
    "    ranking_acc_result[k] = pd.Series(v).mean()\n",
    "    \n",
    "(pd.Series(ranking_acc_result) * 100).to_frame()"
   ]
  },
  {
   "cell_type": "code",
   "execution_count": null,
   "id": "c5947918",
   "metadata": {},
   "outputs": [],
   "source": [
    "from sklearn.metrics import confusion_matrix, roc_curve, auc\n",
    "import matplotlib.pyplot as plt"
   ]
  },
  {
   "cell_type": "code",
   "execution_count": null,
   "id": "dd7e05ca",
   "metadata": {},
   "outputs": [],
   "source": [
    "fpr, tpr, _ = roc_curve(pred.actual, pred.predicted)\n",
    "roc_auc = auc(fpr, tpr)\n",
    "\n",
    "plt.figure()\n",
    "lw = 2\n",
    "plt.plot(\n",
    "    fpr,\n",
    "    tpr,\n",
    "    color=\"darkorange\",\n",
    "    lw=lw,\n",
    "    label=\"ROC curve (area = %0.2f)\" % roc_auc,\n",
    ")\n",
    "plt.plot([0, 1], [0, 1], color=\"navy\", lw=lw, linestyle=\"--\")\n",
    "plt.xlim([0.0, 1.0])\n",
    "plt.ylim([0.0, 1.05])\n",
    "plt.xlabel(\"False Positive Rate\")\n",
    "plt.ylabel(\"True Positive Rate\")\n",
    "plt.title(\"Receiver operating characteristic example\")\n",
    "plt.legend(loc=\"lower right\")\n",
    "plt.show()"
   ]
  },
  {
   "cell_type": "code",
   "execution_count": null,
   "id": "527c74a2",
   "metadata": {},
   "outputs": [],
   "source": [
    "cm = confusion_matrix(pred.actual.astype(int), pred.predicted > 0.5)\n",
    "import seaborn as sns\n",
    "\n",
    "sns.heatmap(cm, annot=True)"
   ]
  },
  {
   "cell_type": "code",
   "execution_count": null,
   "id": "08a4cc36",
   "metadata": {},
   "outputs": [],
   "source": []
  }
 ],
 "metadata": {
  "kernelspec": {
   "display_name": "Python 3",
   "language": "python",
   "name": "python3"
  },
  "language_info": {
   "codemirror_mode": {
    "name": "ipython",
    "version": 3
   },
   "file_extension": ".py",
   "mimetype": "text/x-python",
   "name": "python",
   "nbconvert_exporter": "python",
   "pygments_lexer": "ipython3",
   "version": "3.9.12 (main, Mar 26 2022, 15:51:15) \n[Clang 13.1.6 (clang-1316.0.21.2)]"
  },
  "vscode": {
   "interpreter": {
    "hash": "aee8b7b246df8f9039afb4144a1f6fd8d2ca17a180786b69acc140d282b71a49"
   }
  }
 },
 "nbformat": 4,
 "nbformat_minor": 5
}
