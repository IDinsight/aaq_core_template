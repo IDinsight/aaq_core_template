{
 "cells": [
  {
   "cell_type": "markdown",
   "id": "7b5c1caa",
   "metadata": {},
   "source": [
    "# Question-answer matching (classifier) on MomConnect\n",
    "\n",
    "* input: `[CLS] <user query> [SEP] <example question j for content i> [SEP]` for all `i, j`"
   ]
  },
  {
   "cell_type": "code",
   "execution_count": null,
   "id": "d2611bbe",
   "metadata": {},
   "outputs": [],
   "source": [
    "import numpy as np\n",
    "import pandas as pd\n",
    "import boto3\n",
    "import sagemaker\n",
    "\n",
    "sess = sagemaker.Session()\n",
    "sagemaker_session_bucket = None\n",
    "if sagemaker_session_bucket is None and sess is not None:\n",
    "    sagemaker_session_bucket = sess.default_bucket()\n",
    "\n",
    "role = sagemaker.get_execution_role()\n",
    "sess = sagemaker.Session(default_bucket=sagemaker_session_bucket)"
   ]
  },
  {
   "cell_type": "code",
   "execution_count": null,
   "id": "deaad4f2",
   "metadata": {},
   "outputs": [],
   "source": [
    "import botocore\n",
    "from datasets.filesystems import S3FileSystem\n",
    "from datasets import load_dataset, Dataset\n",
    "\n",
    "s3 = S3FileSystem()\n",
    "s3_bucket = 'praekelt-static-resources'\n",
    "s3_prefix='experiment/data/mc/question-answer-matching'\n",
    "\n",
    "training_input_path = f's3://{s3_bucket}/{s3_prefix}/train'\n",
    "test_short_input_path = f's3://{s3_bucket}/{s3_prefix}/test_short'\n",
    "test_full_input_path = f's3://{s3_bucket}/{s3_prefix}/test_untokenized'\n",
    "\n",
    "training_input_path"
   ]
  },
  {
   "cell_type": "code",
   "execution_count": null,
   "id": "b1402267",
   "metadata": {},
   "outputs": [],
   "source": [
    "from sagemaker.huggingface import HuggingFace\n",
    "\n",
    "# hyperparameters, which are passed into the training job\n",
    "hyperparameters = {\n",
    "    'epochs': 5,\n",
    "    'train_batch_size': 32,\n",
    "    'model_name':'distilbert-base-uncased'\n",
    "}\n",
    "resource_tags = [\n",
    "    {\"Key\":'Project', \"Value\": 'praekelt-skoll'}, \n",
    "    {\"Key\":'BillingCode', \"Value\":'praekelt-skoll'},\n",
    "    {\"Key\": 'model_type', \"Value\": 'question-answer-pair-score'},\n",
    "    {\"Key\": \"misc\", \"Value\": \"upgraded version\"}\n",
    "]\n",
    "huggingface_estimator = HuggingFace(\n",
    "    entry_point='train-classification.py',\n",
    "    source_dir='./scripts',\n",
    "    instance_type='ml.g4dn.2xlarge',\n",
    "    instance_count=1,\n",
    "    role=role,\n",
    "    transformers_version='4.17.0',\n",
    "    pytorch_version='1.10.2',\n",
    "    py_version='py38',\n",
    "    hyperparameters=hyperparameters,\n",
    "    tags=resource_tags\n",
    ")"
   ]
  },
  {
   "cell_type": "code",
   "execution_count": null,
   "id": "f1b62cfb",
   "metadata": {},
   "outputs": [],
   "source": [
    "%%capture\n",
    "# starting the train job with our uploaded datasets as input\n",
    "huggingface_estimator.fit({'train': training_input_path, 'test': test_short_input_path})"
   ]
  },
  {
   "cell_type": "code",
   "execution_count": null,
   "id": "57cbf035",
   "metadata": {},
   "outputs": [],
   "source": [
    "huggingface_estimator.model_data"
   ]
  },
  {
   "cell_type": "markdown",
   "id": "b2ffbeb0",
   "metadata": {},
   "source": [
    "# Evaluate"
   ]
  },
  {
   "cell_type": "code",
   "execution_count": null,
   "id": "b90c7aba",
   "metadata": {},
   "outputs": [],
   "source": [
    "role"
   ]
  },
  {
   "cell_type": "code",
   "execution_count": null,
   "id": "10f757c0",
   "metadata": {},
   "outputs": [],
   "source": [
    "from sagemaker.huggingface import HuggingFaceModel\n",
    "\n",
    "huggingface_estimator = HuggingFaceModel(\n",
    "    role=role, \n",
    "    model_data='s3://sagemaker-af-south-1-678681925278/huggingface-pytorch-training-2022-08-09-05-39-37-766/output/model.tar.gz',\n",
    "    transformers_version='4.12',\n",
    "    pytorch_version='1.9',\n",
    "    py_version='py38',\n",
    ")"
   ]
  },
  {
   "cell_type": "markdown",
   "id": "4f4666e1",
   "metadata": {},
   "source": [
    "# FAQ Ranking"
   ]
  },
  {
   "cell_type": "markdown",
   "id": "489abd3d",
   "metadata": {},
   "source": [
    "## Batch transform"
   ]
  },
  {
   "cell_type": "code",
   "execution_count": null,
   "id": "c3a7a774",
   "metadata": {},
   "outputs": [],
   "source": [
    "from datasets import load_from_disk\n",
    "untokenized_test_input_path = f's3://{s3_bucket}/{s3_prefix}/test_untokenized'\n",
    "untokenized_test_dataset = load_from_disk(untokenized_test_input_path, fs=s3)"
   ]
  },
  {
   "cell_type": "code",
   "execution_count": null,
   "id": "0c856fd3",
   "metadata": {},
   "outputs": [],
   "source": [
    "batch_df = untokenized_test_dataset.to_pandas()\n",
    "batch_df.head()"
   ]
  },
  {
   "cell_type": "code",
   "execution_count": null,
   "id": "c5fdb142",
   "metadata": {},
   "outputs": [],
   "source": [
    "batch_df.question.nunique()"
   ]
  },
  {
   "cell_type": "code",
   "execution_count": null,
   "id": "96317edc",
   "metadata": {},
   "outputs": [],
   "source": [
    "batch_df.faq_name.nunique()"
   ]
  },
  {
   "cell_type": "code",
   "execution_count": null,
   "id": "37b96a97",
   "metadata": {},
   "outputs": [],
   "source": [
    "import re\n",
    "\n",
    "whitespace = re.compile('\\s+')\n",
    "\n",
    "batch_inputs = batch_df.apply(\n",
    "    lambda example: \n",
    "    '[CLS] ' + whitespace.sub(' ', example.question) + ' [SEP] ' + whitespace.sub(' ', example.faq_content) + ' [SEP]', \n",
    "    axis=1\n",
    ")"
   ]
  },
  {
   "cell_type": "code",
   "execution_count": null,
   "id": "50146c7d",
   "metadata": {},
   "outputs": [],
   "source": [
    "batch_inputs.sample(1).tolist()"
   ]
  },
  {
   "cell_type": "code",
   "execution_count": null,
   "id": "7258af12",
   "metadata": {},
   "outputs": [],
   "source": [
    "import csv\n",
    "import json\n",
    "from sagemaker.s3 import S3Uploader,s3_path_join\n",
    "\n",
    "# datset files\n",
    "dataset_jsonl_file = \"question_answer_pair_score.jsonl\"\n",
    "\n",
    "with open(dataset_jsonl_file, \"w+\") as outfile:\n",
    "    for text in batch_inputs.tolist(): \n",
    "        input_dict = {'inputs': text.replace(\"@\",\"\"), 'parameters': {'truncation':True}}\n",
    "        json.dump(input_dict, outfile)\n",
    "        outfile.write('\\n')"
   ]
  },
  {
   "cell_type": "code",
   "execution_count": null,
   "id": "d4b6f599",
   "metadata": {},
   "outputs": [],
   "source": [
    "# uploads a given file to S3.\n",
    "batch_transform_s3_prefix = 's3://praekelt-static-resources/experiment/outputs/batch-transform/mc'\n",
    "input_s3_path = s3_path_join(batch_transform_s3_prefix,\"input.jsonl\")\n",
    "output_s3_path = s3_path_join(batch_transform_s3_prefix,\"output\")\n",
    "\n",
    "s3_file_uri = S3Uploader.upload(dataset_jsonl_file,input_s3_path)\n",
    "\n",
    "print(f\"{dataset_jsonl_file} uploaded to {s3_file_uri}\")"
   ]
  },
  {
   "cell_type": "code",
   "execution_count": null,
   "id": "11fa18bb",
   "metadata": {},
   "outputs": [],
   "source": [
    "for i, (faq_name, _df) in enumerate(batch_df.groupby(\"faq_name\")):\n",
    "    with open(f\"question_answer_pair_score-{i:3d}\", \"w+\") as outfile:\n",
    "        for text in batch_inputs.tolist():\n",
    "            input_dict = {'inputs': text.replace(\"@\",\"\"), 'parameters': {'truncation':True}}\n",
    "            json.dump(input_dict, outfile)\n",
    "            outfile.write('\\n')"
   ]
  },
  {
   "cell_type": "code",
   "execution_count": null,
   "id": "bcc7c70c",
   "metadata": {},
   "outputs": [],
   "source": [
    "%%capture\n",
    "s3_file_uri = 's3://praekelt-static-resources/experiment/outputs/batch-transform/mc/input.jsonl/question_answer_pair_score.jsonl'\n",
    "resource_tags = [\n",
    "    {\"Key\":'Project', \"Value\": 'praekelt-skoll'}, \n",
    "    {\"Key\":'BillingCode', \"Value\":'praekelt-skoll'},\n",
    "    {\"Key\": 'model_type', \"Value\": 'question-answer-pair-score'}\n",
    "]\n",
    "\n",
    "# create Transformer to run our batch job\n",
    "output_s3_path = s3_path_join(batch_transform_s3_prefix,\"output_4xlarge\")\n",
    "batch_job = huggingface_estimator.transformer(\n",
    "    instance_count=1,\n",
    "    instance_type='ml.g4dn.4xlarge',\n",
    "    output_path=output_s3_path, # we are using the same s3 path to save the output with the input\n",
    "    strategy='SingleRecord',\n",
    "    tags=resource_tags,\n",
    ")\n",
    "\n",
    "# starts batch transform job and uses s3 data as input\n",
    "batch_job.transform(\n",
    "    data=s3_file_uri,\n",
    "    content_type='application/json',    \n",
    "    split_type='Line'\n",
    ")"
   ]
  },
  {
   "cell_type": "code",
   "execution_count": null,
   "id": "3f01f97a",
   "metadata": {},
   "outputs": [],
   "source": [
    "import json\n",
    "from sagemaker.s3 import S3Downloader\n",
    "from ast import literal_eval\n",
    "# creating s3 uri for result file -> input file + .out\n",
    "output_file = f\"{dataset_jsonl_file}.out\"\n",
    "output_path = s3_path_join(output_s3_path,output_file)\n",
    "\n",
    "# download file\n",
    "S3Downloader.download(output_path,'.')\n",
    "\n",
    "batch_transform_result = []\n",
    "with open(output_file) as f:\n",
    "    for line in f:\n",
    "        # converts jsonline array to normal array\n",
    "        line = \"[\" + line.replace(\"[\",\"\").replace(\"]\",\",\") + \"]\"\n",
    "        batch_transform_result = literal_eval(line) \n",
    "        \n",
    "# print results \n",
    "print(batch_transform_result[:3])"
   ]
  },
  {
   "cell_type": "code",
   "execution_count": null,
   "id": "e6e17544",
   "metadata": {},
   "outputs": [],
   "source": [
    "batch_df.to_pickle(f's3://{s3_bucket}/{s3_prefix}/test_dataframe.pkl')"
   ]
  },
  {
   "cell_type": "code",
   "execution_count": null,
   "id": "d6a2eb33",
   "metadata": {},
   "outputs": [],
   "source": [
    "f's3://{s3_bucket}/{s3_prefix}/test_dataframe.pkl'"
   ]
  },
  {
   "cell_type": "markdown",
   "id": "4cd07fe1",
   "metadata": {},
   "source": [
    "## Real-time prediction Ranking"
   ]
  },
  {
   "cell_type": "markdown",
   "id": "c03205c8",
   "metadata": {},
   "source": [
    "Real-time prediction"
   ]
  },
  {
   "cell_type": "code",
   "execution_count": null,
   "id": "16e769eb",
   "metadata": {},
   "outputs": [],
   "source": [
    "batch_df.head()"
   ]
  },
  {
   "cell_type": "code",
   "execution_count": null,
   "id": "fcc0cdef",
   "metadata": {},
   "outputs": [],
   "source": [
    "batch_df.shape"
   ]
  },
  {
   "cell_type": "code",
   "execution_count": null,
   "id": "411d96a3",
   "metadata": {},
   "outputs": [],
   "source": [
    "predictor = huggingface_estimator.deploy(1, instance_type='ml.g4dn.xlarge', tags=resource_tags)"
   ]
  },
  {
   "cell_type": "code",
   "execution_count": null,
   "id": "35e5ea85",
   "metadata": {},
   "outputs": [],
   "source": [
    "batch_df.to_csv(\"\")"
   ]
  },
  {
   "cell_type": "code",
   "execution_count": null,
   "id": "71b2d44f",
   "metadata": {},
   "outputs": [],
   "source": [
    "pred_results = {\n",
    "    'faq_name': [],\n",
    "    'actual': [],\n",
    "    'predicted': [],\n",
    "    'question': [],\n",
    "    'question_ref': [],\n",
    "    'context': [],\n",
    "}\n",
    "\n",
    "for i, prediction in enumerate(batch_transform_result):\n",
    "    score = int(prediction['label'] == 'LABEL_0') * (1 - prediction['score']) + int(prediction['label'] == 'LABEL_1') * prediction['score']\n",
    "    example = batch_df.iloc[i]\n",
    "    pred_results['faq_name'].append(example['faq_name'])\n",
    "    pred_results['actual'].append(float(example['label']))\n",
    "    pred_results['predicted'].append(score)\n",
    "    pred_results['question'].append(example['question'])\n",
    "    pred_results['question_ref'].append(example['question_ref'])\n",
    "    pred_results['context'].append(example['faq_content'])"
   ]
  },
  {
   "cell_type": "code",
   "execution_count": null,
   "id": "e7bd1934",
   "metadata": {},
   "outputs": [],
   "source": [
    "pred = pd.DataFrame(pred_results)\n",
    "pred.to_pickle(s3_path_join(output_s3_path,'predictions_question_answer_pair_score.pkl'))\n",
    "pred.plot.scatter(x='actual', y='predicted')"
   ]
  },
  {
   "cell_type": "code",
   "execution_count": null,
   "id": "727da311",
   "metadata": {},
   "outputs": [],
   "source": [
    "output_s3_path"
   ]
  },
  {
   "cell_type": "markdown",
   "id": "f6b40d0f",
   "metadata": {},
   "source": [
    "Check ranking quality\n",
    "\n",
    "- for each question, want to average or max the scores across multiple question_refs"
   ]
  },
  {
   "cell_type": "markdown",
   "id": "e4a79d5b",
   "metadata": {},
   "source": [
    "### TODO: Pool scores across multiple...###"
   ]
  },
  {
   "cell_type": "code",
   "execution_count": null,
   "id": "d558747f",
   "metadata": {},
   "outputs": [],
   "source": [
    "from collections import defaultdict\n",
    "ranking_accuracy = defaultdict(list)\n",
    "top_n = [1, 3, 5, 7, 10]\n",
    "\n",
    "for question, gdf in pred.groupby(\"question\"):\n",
    "    _df = gdf.sort_values(by='predicted', ascending=False)\n",
    "    for n in top_n:\n",
    "        ranking_accuracy[f\"top_{n}\"].append((_df[\"actual\"].iloc[:n] == 1.0).any())"
   ]
  },
  {
   "cell_type": "code",
   "execution_count": null,
   "id": "210e78ca",
   "metadata": {},
   "outputs": [],
   "source": [
    "ranking_acc_result = dict()\n",
    "for k, v in ranking_accuracy.items():\n",
    "    ranking_acc_result[k] = pd.Series(v).mean()\n",
    "    \n",
    "(pd.Series(ranking_acc_result) * 100).to_frame()"
   ]
  },
  {
   "cell_type": "code",
   "execution_count": null,
   "id": "d41305fa",
   "metadata": {},
   "outputs": [],
   "source": [
    "from sklearn.metrics import confusion_matrix, roc_curve, auc\n",
    "import matplotlib.pyplot as plt"
   ]
  },
  {
   "cell_type": "code",
   "execution_count": null,
   "id": "2efe9493",
   "metadata": {},
   "outputs": [],
   "source": [
    "fpr, tpr, _ = roc_curve(pred.actual, pred.predicted)\n",
    "roc_auc = auc(fpr, tpr)\n",
    "\n",
    "plt.figure()\n",
    "lw = 2\n",
    "plt.plot(\n",
    "    fpr,\n",
    "    tpr,\n",
    "    color=\"darkorange\",\n",
    "    lw=lw,\n",
    "    label=\"ROC curve (area = %0.2f)\" % roc_auc,\n",
    ")\n",
    "plt.plot([0, 1], [0, 1], color=\"navy\", lw=lw, linestyle=\"--\")\n",
    "plt.xlim([0.0, 1.0])\n",
    "plt.ylim([0.0, 1.05])\n",
    "plt.xlabel(\"False Positive Rate\")\n",
    "plt.ylabel(\"True Positive Rate\")\n",
    "plt.title(\"Receiver operating characteristic example\")\n",
    "plt.legend(loc=\"lower right\")\n",
    "plt.show()"
   ]
  },
  {
   "cell_type": "code",
   "execution_count": null,
   "id": "43863e31",
   "metadata": {},
   "outputs": [],
   "source": [
    "cm = confusion_matrix(pred.actual.astype(int), pred.predicted > 0.5)\n",
    "import seaborn as sns\n",
    "\n",
    "sns.heatmap(cm, annot=True)"
   ]
  },
  {
   "cell_type": "markdown",
   "id": "bba81608",
   "metadata": {},
   "source": [
    "# Batch transform speed"
   ]
  },
  {
   "cell_type": "code",
   "execution_count": null,
   "id": "28135089",
   "metadata": {},
   "outputs": [],
   "source": [
    "def create_bert_input(example):\n",
    "    return '[CLS] ' + whitespace.sub(' ', example.question) + ' [SEP] ' + whitespace.sub(' ', example.faq_content) + ' [SEP]'"
   ]
  },
  {
   "cell_type": "code",
   "execution_count": null,
   "id": "58fbd9ca",
   "metadata": {},
   "outputs": [],
   "source": [
    "batch_df.loc[:, \"bert_input\"] = batch_inputs"
   ]
  },
  {
   "cell_type": "code",
   "execution_count": null,
   "id": "76e25e32",
   "metadata": {},
   "outputs": [],
   "source": [
    "import csv\n",
    "import json\n",
    "from sagemaker.s3 import S3Uploader,s3_path_join\n",
    "\n",
    "# datset files\n",
    "dataset_csv_file_fmt = \"question_answer_pair_score_{:04d}.csv\"\n",
    "\n",
    "# S3 path\n",
    "batch_transform_s3_prefix = 's3://praekelt-static-resources/experiment/outputs/batch-transform/mc'\n",
    "input_s3_path = s3_path_join(batch_transform_s3_prefix,\"input.jsonl\")\n",
    "\n",
    "for i, (q, qdf) in enumerate(batch_df.groupby(\"question\")):\n",
    "    qdf[[\"bert_input\"]].rename(columns={\"bert_input\": \"inputs\"}).to_csv(s3_path_join(input_s3_path, dataset_csv_file_fmt.format(i)), index=False)\n",
    "    if i > 4:\n",
    "        break"
   ]
  },
  {
   "cell_type": "code",
   "execution_count": null,
   "id": "2bbc997c",
   "metadata": {},
   "outputs": [],
   "source": [
    "s3_path_join(input_s3_path, dataset_csv_file_fmt.format(i))"
   ]
  },
  {
   "cell_type": "code",
   "execution_count": null,
   "id": "cfb31668",
   "metadata": {},
   "outputs": [],
   "source": [
    "%%capture\n",
    "s3_file_uri = 's3://praekelt-static-resources/experiment/outputs/batch-transform/mc/input.jsonl/question_answer_pair_score_0000.csv'\n",
    "\n",
    "resource_tags = [\n",
    "    {\"Key\":'Project', \"Value\": 'praekelt-skoll'}, \n",
    "    {\"Key\":'BillingCode', \"Value\":'praekelt-skoll'},\n",
    "    {\"Key\": 'model_type', \"Value\": 'question-answer-pair-score'}\n",
    "]\n",
    "\n",
    "# create Transformer to run our batch job\n",
    "output_s3_path = s3_path_join(batch_transform_s3_prefix,\"output\")"
   ]
  },
  {
   "cell_type": "code",
   "execution_count": null,
   "id": "34b3001d",
   "metadata": {},
   "outputs": [],
   "source": [
    "%%capture\n",
    "\n",
    "batch_job = huggingface_estimator.transformer(\n",
    "    instance_count=1,\n",
    "    instance_type='ml.inf1.24xlarge',\n",
    "    output_path=output_s3_path, # we are using the same s3 path to save the output with the input\n",
    "    strategy='MultiRecord',\n",
    "    tags=resource_tags,\n",
    ")\n",
    "\n",
    "# starts batch transform job and uses s3 data as input\n",
    "batch_job.transform(\n",
    "    data=s3_file_uri,\n",
    "    content_type='text/csv',\n",
    "    split_type='Line'\n",
    ")"
   ]
  },
  {
   "cell_type": "markdown",
   "id": "47923029",
   "metadata": {},
   "source": [
    "# For Inferentia chip"
   ]
  },
  {
   "cell_type": "code",
   "execution_count": null,
   "id": "b5ac6bef",
   "metadata": {},
   "outputs": [],
   "source": [
    "from sagemaker.huggingface import HuggingFace\n",
    "\n",
    "# hyperparameters, which are passed into the training job\n",
    "hyperparameters = {\n",
    "    'epochs': 5,\n",
    "    'train_batch_size': 32,\n",
    "    'model_name':'distilbert-base-uncased'\n",
    "}\n",
    "resource_tags = [\n",
    "    {\"Key\":'Project', \"Value\": 'praekelt-skoll'}, \n",
    "    {\"Key\":'BillingCode', \"Value\":'praekelt-skoll'}\n",
    "]\n",
    "huggingface_estimator = HuggingFace(\n",
    "    entry_point='train-classification.py',\n",
    "    source_dir='./scripts',\n",
    "    instance_type='ml.g4dn.12xlarge',\n",
    "    instance_count=1,\n",
    "    role=role,\n",
    "    transformers_version='4.12',\n",
    "    pytorch_version='1.9',\n",
    "    py_version='py37',\n",
    "    hyperparameters=hyperparameters,\n",
    "    tags=resource_tags\n",
    ")"
   ]
  },
  {
   "cell_type": "code",
   "execution_count": null,
   "id": "766693e1",
   "metadata": {},
   "outputs": [],
   "source": [
    "%%capture\n",
    "\n",
    "# starting the train job with our uploaded datasets as input\n",
    "huggingface_estimator.fit({'train': training_input_path, 'test': test_short_input_path})"
   ]
  },
  {
   "cell_type": "markdown",
   "id": "a98a76c7",
   "metadata": {},
   "source": [
    "# Train on all available data"
   ]
  },
  {
   "cell_type": "code",
   "execution_count": null,
   "id": "be75fde5",
   "metadata": {},
   "outputs": [],
   "source": []
  }
 ],
 "metadata": {
  "kernelspec": {
   "display_name": "Python 3",
   "language": "python",
   "name": "python3"
  },
  "language_info": {
   "codemirror_mode": {
    "name": "ipython",
    "version": 3
   },
   "file_extension": ".py",
   "mimetype": "text/x-python",
   "name": "python",
   "nbconvert_exporter": "python",
   "pygments_lexer": "ipython3",
   "version": "3.9.12 (main, Mar 26 2022, 15:51:15) \n[Clang 13.1.6 (clang-1316.0.21.2)]"
  },
  "vscode": {
   "interpreter": {
    "hash": "aee8b7b246df8f9039afb4144a1f6fd8d2ca17a180786b69acc140d282b71a49"
   }
  }
 },
 "nbformat": 4,
 "nbformat_minor": 5
}
