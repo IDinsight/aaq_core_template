{
 "cells": [
  {
   "cell_type": "markdown",
   "id": "f433ebda",
   "metadata": {},
   "source": [
    "To be split from `1.2` which includes both preprocessing AND QuestionAnswering modeling"
   ]
  },
  {
   "cell_type": "code",
   "execution_count": null,
   "id": "6d1e1ded",
   "metadata": {},
   "outputs": [],
   "source": []
  },
  {
   "cell_type": "markdown",
   "id": "87f40d4e",
   "metadata": {},
   "source": [
    "# Training a single line!! "
   ]
  },
  {
   "cell_type": "code",
   "execution_count": null,
   "id": "93d27f8d",
   "metadata": {},
   "outputs": [],
   "source": [
    "from transformers import AutoModelForQuestionAnswering, Trainer, TrainingArguments, default_data_collator\n",
    "\n",
    "model = AutoModelForQuestionAnswering.from_pretrained(\"distilbert-base-uncased\")\n",
    "data_collator = default_data_collator"
   ]
  },
  {
   "cell_type": "code",
   "execution_count": null,
   "id": "02cc48ac",
   "metadata": {},
   "outputs": [],
   "source": [
    "single_line_train_dataset = tokenized_train_dataset.select(range(32))"
   ]
  },
  {
   "cell_type": "code",
   "execution_count": null,
   "id": "82d97ec7",
   "metadata": {
    "jupyter": {
     "outputs_hidden": true
    }
   },
   "outputs": [],
   "source": [
    "# define training args\n",
    "training_args = TrainingArguments(\n",
    "    output_dir=\"./results\",\n",
    "    evaluation_strategy=\"epoch\",\n",
    "    learning_rate=2e-5,\n",
    "    per_device_train_batch_size=32,\n",
    "    per_device_eval_batch_size=64,\n",
    "    num_train_epochs=1,\n",
    "    weight_decay=0.01,\n",
    ")\n",
    "\n",
    "# create Trainer instance\n",
    "trainer = Trainer(\n",
    "    model=model,\n",
    "    args=training_args,\n",
    "    train_dataset=single_line_train_dataset,\n",
    "    eval_dataset=tokenized_test_dataset,\n",
    "    tokenizer=tokenizer,\n",
    "    data_collator=data_collator,\n",
    ")"
   ]
  },
  {
   "cell_type": "code",
   "execution_count": null,
   "id": "b6f806a6",
   "metadata": {},
   "outputs": [],
   "source": [
    "trainer.__dict__.keys()"
   ]
  },
  {
   "cell_type": "code",
   "execution_count": null,
   "id": "5aa1492f",
   "metadata": {},
   "outputs": [],
   "source": [
    "trainer.train()"
   ]
  },
  {
   "cell_type": "markdown",
   "id": "8b086d5b",
   "metadata": {},
   "source": [
    "# Actual Training"
   ]
  },
  {
   "cell_type": "code",
   "execution_count": null,
   "id": "f40a68c4",
   "metadata": {
    "jupyter": {
     "outputs_hidden": true
    }
   },
   "outputs": [],
   "source": [
    "from sagemaker.huggingface import HuggingFace\n",
    "\n",
    "# hyperparameters, which are passed into the training job\n",
    "hyperparameters = {\n",
    "    'epochs': 3,\n",
    "     'train_batch_size': 32,\n",
    "     'model_name':'distilbert-base-uncased'\n",
    "}\n",
    "huggingface_estimator = HuggingFace(entry_point='train.py',\n",
    "                            source_dir='./scripts',\n",
    "                            instance_type='ml.g4dn.xlarge',\n",
    "                            instance_count=1,\n",
    "                            role=role,\n",
    "                            transformers_version='4.12',\n",
    "                            pytorch_version='1.9',\n",
    "                            py_version='py38',\n",
    "                            hyperparameters = hyperparameters)\n",
    "\n",
    "# starting the train job with our uploaded datasets as input\n",
    "huggingface_estimator.fit({'train': training_input_path, 'test': test_input_path})"
   ]
  },
  {
   "cell_type": "markdown",
   "id": "9e6cd3eb",
   "metadata": {},
   "source": [
    "# Evaluate"
   ]
  },
  {
   "cell_type": "code",
   "execution_count": null,
   "id": "e04ce703",
   "metadata": {},
   "outputs": [],
   "source": [
    "resource_tags = [\n",
    "    {\"Key\":'Project', \"Value\": 'praekelt-skoll'}, \n",
    "    {\"Key\":'BillingCode', \"Value\":'praekelt-skoll'}\n",
    "]\n",
    "predictor = huggingface_estimator.deploy(1, instance_type='ml.m5.xlarge', tags=resource_tags)"
   ]
  },
  {
   "cell_type": "code",
   "execution_count": null,
   "id": "6e0f9b48",
   "metadata": {},
   "outputs": [],
   "source": [
    "test_dataset_renamed = test_dataset.rename_column('faq_content_to_send', 'context').remove_columns(['label', 'faq_title', 'faq_id', '__index_level_0__'])"
   ]
  },
  {
   "cell_type": "code",
   "execution_count": null,
   "id": "7dc4e5e6",
   "metadata": {},
   "outputs": [],
   "source": [
    "test_dataset_renamed"
   ]
  },
  {
   "cell_type": "code",
   "execution_count": null,
   "id": "d36b4414",
   "metadata": {},
   "outputs": [],
   "source": [
    "predictions"
   ]
  },
  {
   "cell_type": "code",
   "execution_count": null,
   "id": "27d7caef",
   "metadata": {},
   "outputs": [],
   "source": [
    "pred_results = {\n",
    "    'faq_id': [],\n",
    "    'actual': [],\n",
    "    'predicted': [],\n",
    "    'question': [],\n",
    "    'context': [],\n",
    "}\n",
    "for i, example in enumerate(test_dataset_renamed):\n",
    "    prediction = predictor.predict(example)\n",
    "    pred_results['faq_id'].append(test_dataset[i]['faq_id'])\n",
    "    pred_results['actual'].append(test_dataset[i]['label'])\n",
    "    pred_results['predicted'].append(prediction['score'])\n",
    "    pred_results['question'].append(example['question'])\n",
    "    pred_results['context'].append(test_dataset[i]['faq_content_to_send'])"
   ]
  },
  {
   "cell_type": "code",
   "execution_count": null,
   "id": "2d10ad20",
   "metadata": {},
   "outputs": [],
   "source": [
    "pred = pd.DataFrame(pred_results)\n",
    "pred.plot.scatter(x='actual', y='predicted')"
   ]
  },
  {
   "cell_type": "code",
   "execution_count": null,
   "id": "cf32ab57",
   "metadata": {},
   "outputs": [],
   "source": [
    "i = 30\n",
    "predictions = predictor.predict(test_dataset_renamed[i])\n",
    "\n",
    "print(f\"Question: {test_dataset[i]['question']}\")\n",
    "print(f\"Label: {test_dataset[i]['label']:.0f} / Predicted: {predictions['score']:.2f}\")\n",
    "context = test_dataset[i]['faq_content_to_send']\n",
    "print(f\"Answer: {context[predictions['start']: predictions['end']]}\")\n",
    "print(f\"Context: {context}\")"
   ]
  },
  {
   "cell_type": "code",
   "execution_count": null,
   "id": "83f6af25",
   "metadata": {},
   "outputs": [],
   "source": [
    "df_merged[df_merged.faq_id == 77]"
   ]
  },
  {
   "cell_type": "code",
   "execution_count": null,
   "id": "6026d9b7",
   "metadata": {},
   "outputs": [],
   "source": [
    "all_samples[all_samples.faq_id == 77]"
   ]
  }
 ],
 "metadata": {
  "kernelspec": {
   "display_name": "conda_pytorch_p38",
   "language": "python",
   "name": "conda_pytorch_p38"
  },
  "language_info": {
   "codemirror_mode": {
    "name": "ipython",
    "version": 3
   },
   "file_extension": ".py",
   "mimetype": "text/x-python",
   "name": "python",
   "nbconvert_exporter": "python",
   "pygments_lexer": "ipython3",
   "version": "3.8.12"
  }
 },
 "nbformat": 4,
 "nbformat_minor": 5
}
