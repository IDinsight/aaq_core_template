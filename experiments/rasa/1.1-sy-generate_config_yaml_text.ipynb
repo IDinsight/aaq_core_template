{
 "cells": [
  {
   "cell_type": "code",
   "execution_count": null,
   "id": "a5f22ced-83c7-4f57-956d-cdd4727df7eb",
   "metadata": {},
   "outputs": [],
   "source": [
    "import pandas as pd\n",
    "\n",
    "validation_bucket = 'praekelt-static-resources'\n",
    "validation_data_prefix = 'mc_validation/validation_khumo_labelled_aaq.csv'\n",
    "validation_faqs_prefix = 'experiment/data/[Sam] Helpdesk Q&A _ MOMZA _ FAQ Content.xlsx - FAQs.csv'"
   ]
  },
  {
   "cell_type": "code",
   "execution_count": null,
   "id": "227f4477-d9fe-4a1d-97dc-d0d2b9cb1718",
   "metadata": {},
   "outputs": [],
   "source": [
    "df = pd.read_csv(f\"s3://{validation_bucket}/{validation_data_prefix}\")"
   ]
  },
  {
   "cell_type": "code",
   "execution_count": null,
   "id": "0f2c65cc-1f17-4b75-bf98-5c308b4c5708",
   "metadata": {},
   "outputs": [],
   "source": [
    "df.head()"
   ]
  },
  {
   "cell_type": "code",
   "execution_count": null,
   "id": "d19e5665-e367-4eee-9aa2-3c714ac2ca70",
   "metadata": {
    "tags": []
   },
   "outputs": [],
   "source": [
    "faqs = pd.read_csv(f\"/Users/suzinyou/Downloads/{validation_faqs_prefix.split('/')[-1]}\")"
   ]
  },
  {
   "cell_type": "code",
   "execution_count": null,
   "id": "69748151-09ae-4867-b3fc-2f5c58a1b8c1",
   "metadata": {},
   "outputs": [],
   "source": [
    "faqs.head()"
   ]
  },
  {
   "cell_type": "markdown",
   "id": "ab6e4f41-2c3e-407e-a6ce-7d438d8e7c4f",
   "metadata": {},
   "source": [
    "Follows preprocessing from `experiments/bert_sagemaker/notebooks/1.1-sy-MC-preprocess_mc_data.ipynb`:"
   ]
  },
  {
   "cell_type": "code",
   "execution_count": null,
   "id": "445dd5ed-ae06-4a66-8eb8-b13fe19dbf9e",
   "metadata": {},
   "outputs": [],
   "source": [
    "import numpy as np"
   ]
  },
  {
   "cell_type": "code",
   "execution_count": null,
   "id": "1f2d282f-3413-4831-b03c-57c37b46bf48",
   "metadata": {},
   "outputs": [],
   "source": [
    "column_map = {\n",
    "    'Validation questions - USER GENERATED': 'questions_usr',\n",
    "    'Validation questions - SYNTHETIC': 'questions_syn',\n",
    "    'FAQ Content': 'faq_content',\n",
    "    'FAQ Name': 'faq_name',\n",
    "    'FAQ title': 'faq_title',\n",
    "}\n",
    "faqs = faqs.rename(columns=column_map)\n",
    "faqs = faqs[column_map.values()]\n",
    "\n",
    "faqs.questions_usr.iloc[0].split('\\n')\n",
    "faqs = faqs[faqs.faq_name != 'FAQ Name']\n",
    "faqs = faqs[~faqs.questions_usr.isnull()]\n",
    "\n",
    "faqs.loc[:, \"questions_usr\"] = faqs.questions_usr.apply(lambda x: np.asarray(x.split('\\n')))\n",
    "faqs.loc[faqs.faq_name == \"Preg - ANAEMIA\", 'faq_name'] = \"Preg - Anemia\"\n",
    "\n",
    "faqs = faqs[faqs.questions_usr.apply(lambda x: len(x)) >= 4]\n",
    "\n",
    "from numpy.random import MT19937\n",
    "from numpy.random import RandomState, SeedSequence\n",
    "\n",
    "rs = RandomState(MT19937(SeedSequence(123456789)))\n",
    "\n",
    "def get_ref_split(l):\n",
    "    r = np.arange(len(l))\n",
    "    rs.shuffle(r)\n",
    "    return r[:2], r[2:]\n",
    "\n",
    "faqs.loc[:, \"_splits\"] = faqs.questions_usr.apply(get_ref_split)\n",
    "faqs.loc[:, \"question_ref\"] = faqs.apply(lambda x: x.questions_usr[x._splits[0]], axis=1)\n",
    "faqs.loc[:, \"question\"] = faqs.apply(lambda x: x.questions_usr[x._splits[1]], axis=1)\n",
    "\n",
    "for col in ['question', 'question_ref', 'questions_usr',]:\n",
    "    faqs[col] = faqs[col].apply(lambda x: list(x))"
   ]
  },
  {
   "cell_type": "code",
   "execution_count": null,
   "id": "bce77b95-a392-4fdc-92ba-faccde5f9a59",
   "metadata": {},
   "outputs": [],
   "source": [
    "faqs.head()"
   ]
  },
  {
   "cell_type": "code",
   "execution_count": null,
   "id": "0b672a4e-cd40-46ca-aa03-7adf73bcf723",
   "metadata": {},
   "outputs": [],
   "source": [
    "faqs.faq_name[faqs.faq_name.apply(lambda x: \"/\" in x)]"
   ]
  },
  {
   "cell_type": "code",
   "execution_count": null,
   "id": "838a61a9-9478-4a42-9cb3-f9305ff0f706",
   "metadata": {},
   "outputs": [],
   "source": [
    "faqs[\"faq_name_rasa\"] = faqs.faq_name.apply(lambda x: '_'.join(x.lower().replace(\" - \", \"-\").replace(\" / \", \"\").split()))"
   ]
  },
  {
   "cell_type": "markdown",
   "id": "d94fdd1b-eef8-48ed-a412-834fee6231f5",
   "metadata": {},
   "source": [
    "## FAQs data\n",
    "We need the data in this format:\n",
    "\n",
    "```yaml\n",
    "responses:\n",
    "  utter_chitchat/ask_name:\n",
    "  - image: \"https://i.imgur.com/zTvA58i.jpeg\"\n",
    "    text: Hello, my name is Retrieval Bot.\n",
    "  - text: I am called Retrieval Bot!\n",
    "  utter_chitchat/ask_weather:\n",
    "  - text: Oh, it does look sunny right now in Berlin.\n",
    "    image: \"https://i.imgur.com/vwv7aHN.png\"\n",
    "  - text: I am not sure of the whole week but I can see the sun is out today.\n",
    "\n",
    "```"
   ]
  },
  {
   "cell_type": "code",
   "execution_count": null,
   "id": "e90beace-3953-47f2-af87-432741ab748c",
   "metadata": {},
   "outputs": [],
   "source": [
    "faq_content_fmt = \"\"\"  utter_faq/{name}:\n",
    "  - text: \\\"{content}\\\"\n",
    "\"\"\"\n",
    "\n",
    "yaml_text = \"\"\"responses:\n",
    "\"\"\"\n",
    "\n",
    "faq_yaml_text = yaml_text + \"\\n\".join(\n",
    "    faqs.apply(\n",
    "        lambda faq: faq_content_fmt.format(\n",
    "            name=faq.faq_name_rasa, \n",
    "            content=faq.faq_content.replace(\"\\\"\", \"\\\\\\\"\")\n",
    "        ), \n",
    "        axis=1\n",
    "    ).tolist()\n",
    ")"
   ]
  },
  {
   "cell_type": "code",
   "execution_count": null,
   "id": "2c732f3b-8283-4943-94ac-ce2447de0481",
   "metadata": {
    "jupyter": {
     "outputs_hidden": true
    },
    "tags": []
   },
   "outputs": [],
   "source": [
    "print(faq_yaml_text)"
   ]
  },
  {
   "cell_type": "markdown",
   "id": "f6961c81-dd05-411b-a8c0-f47649dca759",
   "metadata": {},
   "source": [
    "## Training data\n",
    "\n",
    "```yaml\n",
    "nlu:\n",
    "  - intent: chitchat/ask_name\n",
    "    examples: |\n",
    "      - What is your name?\n",
    "      - May I know your name?\n",
    "      - What do people call you?\n",
    "      - Do you have a name for yourself?\n",
    "  - intent: chitchat/ask_weather\n",
    "    examples: |\n",
    "      - What's the weather like today?\n",
    "      - Does it look sunny outside today?\n",
    "      - Oh, do you mind checking the weather for me please?\n",
    "      - I like sunny days in Berlin.\n",
    "```"
   ]
  },
  {
   "cell_type": "code",
   "execution_count": null,
   "id": "6558f1f8-27be-41ab-bbd3-364aa8f93c0b",
   "metadata": {},
   "outputs": [],
   "source": [
    "faqs.columns"
   ]
  },
  {
   "cell_type": "code",
   "execution_count": null,
   "id": "dd7b9ee5-4496-4ffd-b9e5-e8cbb4895a3b",
   "metadata": {},
   "outputs": [],
   "source": [
    "training_data_fmt = \"\"\"  - intent: faq/{name}\n",
    "    examples: |\n",
    "{questions}\"\"\"\n",
    "\n",
    "nlu_yaml_text = \"\"\"nlu:\n",
    "\"\"\"\n",
    "\n",
    "nlu_yaml_text += \"\\n\".join(\n",
    "    faqs.apply(\n",
    "        lambda faq: training_data_fmt.format(\n",
    "            name=faq.faq_name_rasa, \n",
    "            questions='\\n'.join(\n",
    "                [\n",
    "                    f\"      - {q}\"\n",
    "                    #\"      - \\\"{x}\\\"\".format(x=q.replace(\"\\\"\", \"\\\\\\\"\"))\n",
    "                    for q in faq.question + faq.question_ref\n",
    "                ]\n",
    "            )\n",
    "        ), \n",
    "        axis=1\n",
    "    ).tolist()\n",
    ")"
   ]
  },
  {
   "cell_type": "code",
   "execution_count": null,
   "id": "d18ccc1c-3bc2-49cc-bd0b-2489f40d7bed",
   "metadata": {
    "tags": []
   },
   "outputs": [],
   "source": [
    "print(nlu_yaml_text)"
   ]
  },
  {
   "cell_type": "code",
   "execution_count": null,
   "id": "4c8e8a54-b541-4e18-b55b-6cc0757094f6",
   "metadata": {},
   "outputs": [],
   "source": [
    "import os\n",
    "def addToClipBoard(text):\n",
    "    command = 'echo ' + text.strip() + '| clip'\n",
    "    os.system(command)"
   ]
  },
  {
   "cell_type": "code",
   "execution_count": null,
   "id": "9066549f-fbab-49ac-935f-ae1b62b3e747",
   "metadata": {},
   "outputs": [],
   "source": [
    "addToClipBoard(faq_yaml_text)"
   ]
  },
  {
   "cell_type": "code",
   "execution_count": null,
   "id": "0e6364e3-fef5-4b2b-b4a9-e23d7237c63b",
   "metadata": {},
   "outputs": [],
   "source": []
  }
 ],
 "metadata": {
  "kernelspec": {
   "display_name": "Python [conda env:aaq_template] *",
   "language": "python",
   "name": "conda-env-aaq_template-py"
  },
  "language_info": {
   "codemirror_mode": {
    "name": "ipython",
    "version": 3
   },
   "file_extension": ".py",
   "mimetype": "text/x-python",
   "name": "python",
   "nbconvert_exporter": "python",
   "pygments_lexer": "ipython3",
   "version": "3.9.0"
  }
 },
 "nbformat": 4,
 "nbformat_minor": 5
}
