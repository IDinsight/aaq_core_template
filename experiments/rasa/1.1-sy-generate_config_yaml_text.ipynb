{
 "cells": [
  {
   "cell_type": "markdown",
   "id": "fd20fcf4-99e6-4d81-9640-f1c82091b556",
   "metadata": {},
   "source": [
    "# Create RASA config files"
   ]
  },
  {
   "cell_type": "markdown",
   "id": "a7926198-391f-4cbb-8281-c87486d9f6c9",
   "metadata": {},
   "source": [
    "## 1. Load data"
   ]
  },
  {
   "cell_type": "code",
   "execution_count": null,
   "id": "a5f22ced-83c7-4f57-956d-cdd4727df7eb",
   "metadata": {},
   "outputs": [],
   "source": [
    "import pandas as pd\n",
    "\n",
    "validation_bucket = 'praekelt-static-resources'\n",
    "validation_faqs_prefix = 'experiment/data/[Sam] Helpdesk Q&A _ MOMZA _ FAQ Content.xlsx - FAQs.csv'"
   ]
  },
  {
   "cell_type": "code",
   "execution_count": null,
   "id": "d19e5665-e367-4eee-9aa2-3c714ac2ca70",
   "metadata": {
    "tags": []
   },
   "outputs": [],
   "source": [
    "faqs = pd.read_csv(f\"/Users/suzinyou/Downloads/{validation_faqs_prefix.split('/')[-1]}\")"
   ]
  },
  {
   "cell_type": "code",
   "execution_count": null,
   "id": "69748151-09ae-4867-b3fc-2f5c58a1b8c1",
   "metadata": {},
   "outputs": [],
   "source": [
    "faqs.head()"
   ]
  },
  {
   "cell_type": "markdown",
   "id": "ab6e4f41-2c3e-407e-a6ce-7d438d8e7c4f",
   "metadata": {},
   "source": [
    "Follows preprocessing from `experiments/bert_sagemaker/notebooks/1.1-sy-MC-preprocess_mc_data.ipynb`:"
   ]
  },
  {
   "cell_type": "code",
   "execution_count": null,
   "id": "2390429e-6aa6-40d3-952d-167e673fe2e7",
   "metadata": {},
   "outputs": [],
   "source": [
    "import numpy as np\n",
    "from numpy.random import MT19937\n",
    "from numpy.random import RandomState, SeedSequence\n",
    "\n",
    "# Clean column names in FAQs file\n",
    "column_map = {\n",
    "    'Validation questions - USER GENERATED': 'questions_usr',\n",
    "    'Validation questions - SYNTHETIC': 'questions_syn',\n",
    "    'FAQ Content': 'faq_content',\n",
    "    'FAQ Name': 'faq_name',\n",
    "    'FAQ title': 'faq_title',\n",
    "}\n",
    "faqs = faqs.rename(columns=column_map)\n",
    "\n",
    "# Keep only the columns we need\n",
    "faqs = faqs[column_map.values()]\n",
    "\n",
    "# Drop rows we can't use\n",
    "faqs = faqs[faqs.faq_name != 'FAQ Name']\n",
    "faqs = faqs[~faqs.questions_usr.isnull()]\n",
    "\n",
    "# Parse example questions column so each elemnt is an array of questions (we use numpy array so we can index them)\n",
    "faqs.loc[:, \"questions_usr\"] = faqs.questions_usr.apply(lambda x: np.asarray(x.split('\\n')))\n",
    "\n",
    "# Clean Anaemia FAQ name\n",
    "faqs.loc[faqs.faq_name == \"Preg - ANAEMIA\", 'faq_name'] = \"Preg - Anemia\"\n",
    "\n",
    "# Keep FAQs with at least 4 or more example questions\n",
    "faqs = faqs[faqs.questions_usr.apply(lambda x: len(x)) >= 4]\n",
    "\n",
    "# (Only relevant for question-question matching)\n",
    "# Split into reference questions (tied to the FAQ) and example questions for training\n",
    "rs = RandomState(MT19937(SeedSequence(123456789)))\n",
    "\n",
    "def get_ref_split(l):\n",
    "    r = np.arange(len(l))\n",
    "    rs.shuffle(r)\n",
    "    return r[:2], r[2:]\n",
    "\n",
    "faqs.loc[:, \"_splits\"] = faqs.questions_usr.apply(get_ref_split)\n",
    "faqs.loc[:, \"question_ref\"] = faqs.apply(lambda x: x.questions_usr[x._splits[0]], axis=1)\n",
    "faqs.loc[:, \"question\"] = faqs.apply(lambda x: x.questions_usr[x._splits[1]], axis=1)\n",
    "\n",
    "# Cast numpy arrays into lists\n",
    "for col in ['question', 'question_ref', 'questions_usr',]:\n",
    "    faqs[col] = faqs[col].apply(lambda x: list(x))"
   ]
  },
  {
   "cell_type": "code",
   "execution_count": null,
   "id": "bce77b95-a392-4fdc-92ba-faccde5f9a59",
   "metadata": {},
   "outputs": [],
   "source": [
    "faqs.head()"
   ]
  },
  {
   "cell_type": "markdown",
   "id": "95b01d4a-7273-4560-994f-d7c4867f1a07",
   "metadata": {},
   "source": [
    "We can't have `/` in RASA FAQ question names, so replace them"
   ]
  },
  {
   "cell_type": "code",
   "execution_count": null,
   "id": "0b672a4e-cd40-46ca-aa03-7adf73bcf723",
   "metadata": {},
   "outputs": [],
   "source": [
    "faqs.faq_name[faqs.faq_name.apply(lambda x: \"/\" in x)]"
   ]
  },
  {
   "cell_type": "code",
   "execution_count": null,
   "id": "838a61a9-9478-4a42-9cb3-f9305ff0f706",
   "metadata": {},
   "outputs": [],
   "source": [
    "faqs[\"faq_name_rasa\"] = faqs.faq_name.apply(lambda x: '_'.join(x.lower().replace(\" - \", \"-\").replace(\" / \", \"\").split()))"
   ]
  },
  {
   "cell_type": "markdown",
   "id": "d94fdd1b-eef8-48ed-a412-834fee6231f5",
   "metadata": {},
   "source": [
    "## FAQs data\n",
    "We need the data in this format:\n",
    "\n",
    "```yaml\n",
    "responses:\n",
    "  utter_chitchat/ask_name:\n",
    "  - image: \"https://i.imgur.com/zTvA58i.jpeg\"\n",
    "    text: Hello, my name is Retrieval Bot.\n",
    "  - text: I am called Retrieval Bot!\n",
    "  utter_chitchat/ask_weather:\n",
    "  - text: Oh, it does look sunny right now in Berlin.\n",
    "    image: \"https://i.imgur.com/vwv7aHN.png\"\n",
    "  - text: I am not sure of the whole week but I can see the sun is out today.\n",
    "\n",
    "```"
   ]
  },
  {
   "cell_type": "code",
   "execution_count": null,
   "id": "e90beace-3953-47f2-af87-432741ab748c",
   "metadata": {},
   "outputs": [],
   "source": [
    "faq_content_fmt = \"\"\"  utter_faq/{name}:\n",
    "  - text: \\\"{content}\\\"\n",
    "\"\"\"\n",
    "\n",
    "yaml_text = \"\"\"responses:\n",
    "\"\"\"\n",
    "\n",
    "faq_yaml_text = yaml_text + \"\\n\".join(\n",
    "    faqs.apply(\n",
    "        lambda faq: faq_content_fmt.format(\n",
    "            name=faq.faq_name_rasa, \n",
    "            content=faq.faq_content.replace(\"\\\"\", \"\\\\\\\"\")\n",
    "        ), \n",
    "        axis=1\n",
    "    ).tolist()\n",
    ")"
   ]
  },
  {
   "cell_type": "code",
   "execution_count": null,
   "id": "2c732f3b-8283-4943-94ac-ce2447de0481",
   "metadata": {
    "tags": []
   },
   "outputs": [],
   "source": [
    "print(faq_yaml_text[:1000])"
   ]
  },
  {
   "cell_type": "markdown",
   "id": "f6961c81-dd05-411b-a8c0-f47649dca759",
   "metadata": {},
   "source": [
    "## Training/test data\n",
    "\n",
    "```yaml\n",
    "nlu:\n",
    "  - intent: chitchat/ask_name\n",
    "    examples: |\n",
    "      - What is your name?\n",
    "      - May I know your name?\n",
    "      - What do people call you?\n",
    "      - Do you have a name for yourself?\n",
    "  - intent: chitchat/ask_weather\n",
    "    examples: |\n",
    "      - What's the weather like today?\n",
    "      - Does it look sunny outside today?\n",
    "      - Oh, do you mind checking the weather for me please?\n",
    "      - I like sunny days in Berlin.\n",
    "```"
   ]
  },
  {
   "cell_type": "code",
   "execution_count": null,
   "id": "6558f1f8-27be-41ab-bbd3-364aa8f93c0b",
   "metadata": {},
   "outputs": [],
   "source": [
    "faqs.columns"
   ]
  },
  {
   "cell_type": "code",
   "execution_count": null,
   "id": "fe153cf1-f3e5-4b17-bc48-3c32a2f98fa1",
   "metadata": {},
   "outputs": [],
   "source": [
    "print(render_faq_questions(faqs.iloc[0]))"
   ]
  },
  {
   "cell_type": "code",
   "execution_count": null,
   "id": "dd7b9ee5-4496-4ffd-b9e5-e8cbb4895a3b",
   "metadata": {
    "tags": []
   },
   "outputs": [],
   "source": [
    "nlu_element_fmt = \"\"\"  - intent: faq/{name}\n",
    "    examples: |\n",
    "{questions}\"\"\"\n",
    "\n",
    "nlu_yaml_text = \"\"\"nlu:\n",
    "\"\"\"\n",
    "\n",
    "def render_faq_questions(faq):\n",
    "    all_questions = faq.question + faq.question_ref\n",
    "    \n",
    "    formatted_questions_str = '\\n'.join([f\"      - {q}\" for q in all_questions])\n",
    "    \n",
    "    return nlu_element_fmt.format(\n",
    "        name=faq.faq_name_rasa, \n",
    "        questions=formatted_questions_str\n",
    "    )\n",
    "\n",
    "nlu_yaml_text += \"\\n\".join(faqs.apply(render_faq_questions, axis=1).tolist())"
   ]
  },
  {
   "cell_type": "code",
   "execution_count": null,
   "id": "d18ccc1c-3bc2-49cc-bd0b-2489f40d7bed",
   "metadata": {
    "tags": []
   },
   "outputs": [],
   "source": [
    "print(nlu_yaml_text[:1000] + \"...\")"
   ]
  },
  {
   "cell_type": "markdown",
   "id": "66c7b372-e92f-4fff-b48c-a1c3c272cbd2",
   "metadata": {},
   "source": [
    "## Format validation data"
   ]
  },
  {
   "cell_type": "code",
   "execution_count": null,
   "id": "227f4477-d9fe-4a1d-97dc-d0d2b9cb1718",
   "metadata": {},
   "outputs": [],
   "source": [
    "validation_phase_1_data_prefix = \"validation_aaq/validation_khumo_labelled.csv\"\n",
    "validation_phase_2_data_prefix = \"validation_aaq/validation_khumo_labelled_phase2.csv\"\n",
    "df_phase_1 = pd.read_csv(f's3://{validation_bucket}/{validation_phase_1_data_prefix}')\n",
    "df_phase_2 = pd.read_csv(f's3://{validation_bucket}/{validation_phase_2_data_prefix}')\n",
    "\n",
    "df = pd.concat([df_phase_1, df_phase_2])"
   ]
  },
  {
   "cell_type": "code",
   "execution_count": null,
   "id": "0f2c65cc-1f17-4b75-bf98-5c308b4c5708",
   "metadata": {},
   "outputs": [],
   "source": [
    "df.head()"
   ]
  },
  {
   "cell_type": "code",
   "execution_count": null,
   "id": "5e8535f3-e993-4164-8033-e91c1ad3796c",
   "metadata": {},
   "outputs": [],
   "source": [
    "df.info()"
   ]
  },
  {
   "cell_type": "markdown",
   "id": "711e0ff1-c64d-4790-b6f9-d4bb56c23eae",
   "metadata": {},
   "source": [
    "Taken also from `experiments/bert_sagemaker/notebooks/1.1-sy-MC-preprocess_mc_data.ipynb`:"
   ]
  },
  {
   "cell_type": "code",
   "execution_count": null,
   "id": "b069e13e-0b26-42c7-bafd-66d8d46bd526",
   "metadata": {},
   "outputs": [],
   "source": [
    "df_column_map = {\n",
    "    'FAQ Name': 'faq_name',\n",
    "    'Question': 'question',\n",
    "    \n",
    "}\n",
    "\n",
    "df_ref_cols = ['question_msg_id']\n",
    "\n",
    "df = df[df_ref_cols + list(df_column_map.keys())].rename(columns=df_column_map)\n",
    "df = df[df.faq_name.notnull()]"
   ]
  },
  {
   "cell_type": "code",
   "execution_count": null,
   "id": "82f6900e-8c19-4e84-a075-4e9a7248d141",
   "metadata": {},
   "outputs": [],
   "source": [
    "merged = df.merge(faqs.drop(columns=['question']), how=\"left\")\n",
    "merged[merged.questions_usr.isnull()].faq_name.value_counts()"
   ]
  },
  {
   "cell_type": "markdown",
   "id": "a0f63f1d-d946-40cf-b213-9a115d0e5fb1",
   "metadata": {},
   "source": [
    "Some FAQs don't match to the FAQ sheet, we'll just drop them"
   ]
  },
  {
   "cell_type": "code",
   "execution_count": null,
   "id": "26e7ad33-50d2-4592-9f5a-0b6e90678345",
   "metadata": {},
   "outputs": [],
   "source": [
    "df_merged = df.merge(faqs.drop(columns=['question']))\n",
    "df_merged.head()"
   ]
  },
  {
   "cell_type": "code",
   "execution_count": null,
   "id": "1be6fe50-a806-48a0-9a2e-58208e97134a",
   "metadata": {},
   "outputs": [],
   "source": [
    "df_merged = df_merged[~df_merged.question.duplicated()]\n",
    "df_merged = df_merged[~df_merged.question.isnull()]"
   ]
  },
  {
   "cell_type": "code",
   "execution_count": null,
   "id": "62af869d-8cfe-48ab-b412-b5a0d2548183",
   "metadata": {},
   "outputs": [],
   "source": [
    "df_merged.head()"
   ]
  },
  {
   "cell_type": "code",
   "execution_count": null,
   "id": "fcb2c13d-057d-41b4-9ecf-403929b74eee",
   "metadata": {},
   "outputs": [],
   "source": [
    "df_merged.faq_name_rasa.isnull().any()"
   ]
  },
  {
   "cell_type": "code",
   "execution_count": null,
   "id": "7ba79003-b7e9-4259-bd3e-f1f111980fdc",
   "metadata": {},
   "outputs": [],
   "source": [
    "df_merged.shape"
   ]
  },
  {
   "cell_type": "code",
   "execution_count": null,
   "id": "96fd4300-f9b1-48c5-a280-41f0d9c6dca2",
   "metadata": {},
   "outputs": [],
   "source": [
    "def render_validation_questions(faq_name, group):\n",
    "    questions = [q.replace(\"\\n\", \" \") for q in group.question]\n",
    "    formatted_questions_str = '\\n'.join([f\"      - {q}\" for q in questions])\n",
    "    \n",
    "    return nlu_element_fmt.format(\n",
    "        name=faq_name, \n",
    "        questions=formatted_questions_str\n",
    "    )\n",
    "\n",
    "nlu_test_yaml_text = \"\"\"nlu:\n",
    "\"\"\" + \"\\n\".join([\n",
    "    render_validation_questions(faq_name_rasa, group_df)\n",
    "    for faq_name_rasa, group_df in df_merged.groupby(\"faq_name_rasa\")\n",
    "])\n",
    "\n",
    "print(nlu_test_yaml_text[:1000] + \"...\")"
   ]
  },
  {
   "cell_type": "code",
   "execution_count": null,
   "id": "23c45ecf-6de4-4100-8da5-917b7149c86e",
   "metadata": {},
   "outputs": [],
   "source": [
    "with open(\"/Users/suzinyou/IDinsight/praekelt/rasa_test/data/nlu_test.yml\", \"w\") as fp:\n",
    "    n = fp.write(nlu_test_yaml_text)"
   ]
  },
  {
   "cell_type": "code",
   "execution_count": null,
   "id": "15eef47a-8c50-4074-9d92-baf5a8cb250c",
   "metadata": {},
   "outputs": [],
   "source": [
    "print(n)"
   ]
  },
  {
   "cell_type": "markdown",
   "id": "dbed5c30-cdda-49b0-9dc0-8f137576a915",
   "metadata": {},
   "source": [
    "# Evaluate"
   ]
  },
  {
   "cell_type": "code",
   "execution_count": null,
   "id": "a874b341-a2f1-431a-8537-2839735ab7da",
   "metadata": {},
   "outputs": [],
   "source": [
    "import json\n",
    "\n",
    "with open(\"/Users/suzinyou/IDinsight/praekelt/rasa_test/results/response_selection_report.json\", \"r\") as fp:\n",
    "    report = json.load(fp)"
   ]
  },
  {
   "cell_type": "code",
   "execution_count": null,
   "id": "daadac91-6440-4dcb-aba2-065b8c755165",
   "metadata": {},
   "outputs": [],
   "source": [
    "report_df = pd.DataFrame(report).T\n",
    "report_df.index.name = \"faq_name_rasa\"\n",
    "for col in [\"precision\",\"recall\",\"f1-score\",\"support\"]:\n",
    "    report_df[col] = report_df[col].astype(float)"
   ]
  },
  {
   "cell_type": "code",
   "execution_count": null,
   "id": "e719bef4-9024-4fd1-bc1c-8ec6be98271c",
   "metadata": {},
   "outputs": [],
   "source": [
    "report_df.head(12)"
   ]
  },
  {
   "cell_type": "markdown",
   "id": "3403465d-7ecf-43c2-9507-e39c7ac786ad",
   "metadata": {},
   "source": [
    "```python\n",
    "recall = tp_i / (tp_i + fn_i) = tp_i / support_i\n",
    "\n",
    "top 1 accuracy: sum(tp_i) / sum(support)\n",
    "```"
   ]
  },
  {
   "cell_type": "code",
   "execution_count": null,
   "id": "bf904d65-e03c-42ee-a3ba-589ce2d5b5b1",
   "metadata": {},
   "outputs": [],
   "source": [
    "(report_df.recall * report_df.support).sum() / report_df.support.sum()"
   ]
  },
  {
   "cell_type": "code",
   "execution_count": null,
   "id": "87f0ac46-1f2f-4086-92d8-d9cbbed9461f",
   "metadata": {},
   "outputs": [],
   "source": [
    "with open(\"/Users/suzinyou/IDinsight/praekelt/rasa_test/results/response_selection_errors.json\", \"r\") as fp:\n",
    "    err = json.load(fp)"
   ]
  },
  {
   "cell_type": "code",
   "execution_count": null,
   "id": "03f68eaf-7be6-4435-bb15-94aeee31e723",
   "metadata": {},
   "outputs": [],
   "source": [
    "df_merged.shape"
   ]
  },
  {
   "cell_type": "code",
   "execution_count": null,
   "id": "98d551da-f749-4452-8ab7-0bfbf8d0fa75",
   "metadata": {},
   "outputs": [],
   "source": [
    "len(err)"
   ]
  },
  {
   "cell_type": "code",
   "execution_count": null,
   "id": "ef806667-80f1-4533-beca-6330fa4eac2e",
   "metadata": {},
   "outputs": [],
   "source": [
    "err_df = pd.DataFrame(err)"
   ]
  },
  {
   "cell_type": "code",
   "execution_count": null,
   "id": "452a8de6-b014-48e8-9d6f-9e5325242daa",
   "metadata": {},
   "outputs": [],
   "source": [
    "err_df.head()"
   ]
  },
  {
   "cell_type": "code",
   "execution_count": null,
   "id": "47390e70-f8c6-4cd2-b0e3-129e61404c2f",
   "metadata": {},
   "outputs": [],
   "source": [
    "err_df[\"intent_response_key_prediction\"].iloc[0]"
   ]
  },
  {
   "cell_type": "code",
   "execution_count": null,
   "id": "1f8898b4-f9d2-4ef3-838c-b08466506865",
   "metadata": {},
   "outputs": [],
   "source": [
    "err_df[\"intent_response_key_prediction\"].apply(lambda x: type(x))"
   ]
  },
  {
   "cell_type": "code",
   "execution_count": null,
   "id": "0f051707-88b3-4e8c-861b-f81c946f88b3",
   "metadata": {},
   "outputs": [],
   "source": [
    "err_df[\"pred_faq_name\"] = err_df[\"intent_response_key_prediction\"].apply(lambda x: x[\"name\"])\n",
    "err_df[\"pred_proba\"] = err_df[\"intent_response_key_prediction\"].apply(lambda x: x[\"confidence\"])"
   ]
  },
  {
   "cell_type": "code",
   "execution_count": null,
   "id": "4a40e253-6ffc-482d-8f01-1ace7ee7c94e",
   "metadata": {},
   "outputs": [],
   "source": [
    "err_df.head()"
   ]
  },
  {
   "cell_type": "markdown",
   "id": "9755872f-6205-4a3c-abab-52967040b78a",
   "metadata": {},
   "source": [
    "Compare with BERT"
   ]
  },
  {
   "cell_type": "code",
   "execution_count": null,
   "id": "36f77051-273c-4bbe-a19b-c36f1180545f",
   "metadata": {},
   "outputs": [],
   "source": [
    "s3_bucket = 'praekelt-static-resources'\n",
    "s3_prefix = 'experiment/data/mc/question-answer-matching'\n",
    "batch_transform_s3_prefix = 's3://praekelt-static-resources/experiment/outputs/batch-transform/mc'\n",
    "output_s3_path = batch_transform_s3_prefix + \"/output_4xlarge\"\n",
    "pred = pd.read_pickle(output_s3_path + '/predictions_question_answer_pair_score.pkl')"
   ]
  },
  {
   "cell_type": "code",
   "execution_count": null,
   "id": "ac16bff6-1163-49e6-800b-e02404c9e989",
   "metadata": {},
   "outputs": [],
   "source": []
  }
 ],
 "metadata": {
  "kernelspec": {
   "display_name": "Python [conda env:aaq_template] *",
   "language": "python",
   "name": "conda-env-aaq_template-py"
  },
  "language_info": {
   "codemirror_mode": {
    "name": "ipython",
    "version": 3
   },
   "file_extension": ".py",
   "mimetype": "text/x-python",
   "name": "python",
   "nbconvert_exporter": "python",
   "pygments_lexer": "ipython3",
   "version": "3.9.0"
  }
 },
 "nbformat": 4,
 "nbformat_minor": 5
}
