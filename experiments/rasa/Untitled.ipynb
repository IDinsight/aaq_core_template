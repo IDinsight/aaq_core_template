{
 "cells": [
  {
   "cell_type": "markdown",
   "id": "85b1d7f1-7c13-4e2d-8758-c0304b3f1b53",
   "metadata": {},
   "source": [
    "# Evaluating RASA model with custom embeddings"
   ]
  },
  {
   "cell_type": "markdown",
   "id": "23f728c1-8183-4198-a1a0-36f52c4f5f07",
   "metadata": {},
   "source": [
    "## 1. Load data"
   ]
  },
  {
   "cell_type": "code",
   "execution_count": null,
   "id": "028ce753-f93b-4d43-b7fb-84d1b99c5ae1",
   "metadata": {},
   "outputs": [],
   "source": [
    "import pandas as pd\n",
    "import s3fs\n",
    "\n",
    "\n",
    "fs = s3fs.S3FileSystem()\n",
    "\n",
    "with fs.open(\"s3://praekelt-static-resources/experiment/data/[Sam] Helpdesk Q&A _ MOMZA _ FAQ Content.xlsx - FAQs.csv\") as f:\n",
    "    faqs = pd.read_csv(f)"
   ]
  },
  {
   "cell_type": "code",
   "execution_count": null,
   "id": "ceb1182e-8870-4c8d-9d34-c9941446512a",
   "metadata": {},
   "outputs": [],
   "source": []
  },
  {
   "cell_type": "markdown",
   "id": "f2ca175b-b017-4e29-8c29-06725f668415",
   "metadata": {},
   "source": [
    "## 2. Predict"
   ]
  },
  {
   "cell_type": "code",
   "execution_count": null,
   "id": "bc4cb356-f07a-4708-a057-a2102c3fec89",
   "metadata": {},
   "outputs": [],
   "source": [
    "import asyncio\n",
    "from rasa.core.agent import Agent\n",
    "\n",
    "# Load model trained using custom embeddings\n",
    "rasa_agent = ModelAgent.load(\"../../rasa_test/models/20230113-153440-silent-wrestler.tar.gz\")"
   ]
  },
  {
   "cell_type": "code",
   "execution_count": null,
   "id": "c814cd31-8d58-43e3-bf98-6d03f9c168c2",
   "metadata": {},
   "outputs": [],
   "source": [
    "inbound_message = \"Hello what's up\"\n",
    "result = await rasa_agent.parse_message(inbound_message)"
   ]
  }
 ],
 "metadata": {
  "kernelspec": {
   "display_name": "Python [conda env:aaq_template] *",
   "language": "python",
   "name": "conda-env-aaq_template-py"
  },
  "language_info": {
   "codemirror_mode": {
    "name": "ipython",
    "version": 3
   },
   "file_extension": ".py",
   "mimetype": "text/x-python",
   "name": "python",
   "nbconvert_exporter": "python",
   "pygments_lexer": "ipython3",
   "version": "3.9.0"
  }
 },
 "nbformat": 4,
 "nbformat_minor": 5
}
