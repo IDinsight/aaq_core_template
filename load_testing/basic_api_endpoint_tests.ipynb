{
 "cells": [
  {
   "cell_type": "code",
   "execution_count": 1,
   "metadata": {},
   "outputs": [],
   "source": [
    "import requests\n",
    "import os\n",
    "from dotenv import load_dotenv"
   ]
  },
  {
   "cell_type": "markdown",
   "metadata": {},
   "source": [
    "## Import environment variables"
   ]
  },
  {
   "cell_type": "code",
   "execution_count": 2,
   "metadata": {},
   "outputs": [],
   "source": [
    "# Import environment variables from app_secrets.env\n",
    "load_dotenv(dotenv_path=\"../secrets/app_secrets.env\", verbose=True)\n",
    "# Bearer token for authentication\n",
    "INBOUND_CHECK_TOKEN = os.getenv(\"INBOUND_CHECK_TOKEN\")\n",
    "# Hosts\n",
    "local_host = os.getenv(\"LOCAL_HOST\")  # mc_core local\n",
    "dev_host = os.getenv(\"DEV_HOST\")  # mc_core dev\n",
    "staging_host = os.getenv(\"STAGING_HOST\")  # mc_core staging"
   ]
  },
  {
   "cell_type": "markdown",
   "metadata": {},
   "source": [
    "Set host to use for notebook:"
   ]
  },
  {
   "cell_type": "code",
   "execution_count": 3,
   "metadata": {},
   "outputs": [],
   "source": [
    "host = staging_host\n",
    "bearer_token = \"Bearer \" + INBOUND_CHECK_TOKEN"
   ]
  },
  {
   "cell_type": "markdown",
   "metadata": {},
   "source": [
    "# inbound/check\n",
    "Variables from this cell will be used for the other two endpoints"
   ]
  },
  {
   "cell_type": "code",
   "execution_count": 4,
   "metadata": {},
   "outputs": [
    {
     "name": "stdout",
     "output_type": "stream",
     "text": [
      "top response: HIV - Testing\n",
      "check endpoint response time (s): 0.767358\n"
     ]
    }
   ],
   "source": [
    "#### Test the check endpoint\n",
    "response = requests.post(\n",
    "    host + \"/inbound/check\",\n",
    "    json={\"text_to_match\": \"test message\"},\n",
    "    headers={\"Authorization\": bearer_token},\n",
    ")\n",
    "\n",
    "#### store info from response\n",
    "top_response = response.json()[\"top_responses\"][0][0]\n",
    "# for feedback endpoint\n",
    "inbound_id = response.json()[\"inbound_id\"]\n",
    "feedback_secret_key = response.json()[\"feedback_secret_key\"]\n",
    "# for pagination endpoint (also inbound_id above)\n",
    "inbound_secret_key = response.json()[\"inbound_secret_key\"]\n",
    "initial_next_page_url = response.json()[\"next_page_url\"]\n",
    "\n",
    "#### print results\n",
    "print(\"top response:\", top_response)\n",
    "print(\"check endpoint response time (s):\", response.elapsed.total_seconds())"
   ]
  },
  {
   "cell_type": "code",
   "execution_count": 5,
   "metadata": {},
   "outputs": [],
   "source": [
    "# response.json()"
   ]
  },
  {
   "cell_type": "markdown",
   "metadata": {},
   "source": [
    "# inbound/feedback"
   ]
  },
  {
   "cell_type": "code",
   "execution_count": 6,
   "metadata": {},
   "outputs": [],
   "source": [
    "#### Simple function to test the feedback endpoint\n",
    "def feedback_endpoint_test(inbound_id, feedback_secret_key, feedback):\n",
    "\n",
    "    feedback_response = requests.put(\n",
    "        host + \"/inbound/feedback\",\n",
    "        json={\n",
    "            \"inbound_id\": inbound_id,\n",
    "            \"feedback_secret_key\": feedback_secret_key,\n",
    "            \"feedback\": feedback,\n",
    "        },\n",
    "        headers={\"Authorization\": bearer_token},\n",
    "    )\n",
    "\n",
    "    print(\"Feedback call response:\", feedback_response.text)\n",
    "    print(\"Feedback endpoint response time (s):\", response.elapsed.total_seconds())"
   ]
  },
  {
   "cell_type": "code",
   "execution_count": 7,
   "metadata": {},
   "outputs": [
    {
     "name": "stdout",
     "output_type": "stream",
     "text": [
      "Feedback call response: Success\n",
      "Feedback endpoint response time (s): 0.767358\n"
     ]
    }
   ],
   "source": [
    "# correct information\n",
    "feedback_endpoint_test(\n",
    "    inbound_id=inbound_id,\n",
    "    feedback_secret_key=feedback_secret_key,\n",
    "    feedback={\"feedback_type\": \"positive\", \"faq_id\": 0}, #or \"page_number\": 0. See below.\n",
    ")"
   ]
  },
  {
   "cell_type": "code",
   "execution_count": 8,
   "metadata": {},
   "outputs": [
    {
     "name": "stdout",
     "output_type": "stream",
     "text": [
      "Feedback call response: Malformed Feedback JSON\n",
      "Feedback endpoint response time (s): 0.767358\n"
     ]
    }
   ],
   "source": [
    "# correct information\n",
    "feedback_endpoint_test(\n",
    "    inbound_id=inbound_id,\n",
    "    feedback_secret_key=feedback_secret_key,\n",
    "    feedback={\"feedback_type\": \"positive\", \"page_number\": 0},\n",
    ")"
   ]
  },
  {
   "cell_type": "code",
   "execution_count": 9,
   "metadata": {},
   "outputs": [
    {
     "name": "stdout",
     "output_type": "stream",
     "text": [
      "Feedback call response: Malformed Feedback JSON\n",
      "Feedback endpoint response time (s): 0.767358\n"
     ]
    }
   ],
   "source": [
    "# incorrect feedback format\n",
    "feedback_endpoint_test(\n",
    "    inbound_id=inbound_id, feedback_secret_key=feedback_secret_key, feedback=\"Gold Star\"\n",
    ")"
   ]
  },
  {
   "cell_type": "code",
   "execution_count": 10,
   "metadata": {},
   "outputs": [
    {
     "name": "stdout",
     "output_type": "stream",
     "text": [
      "Feedback call response: No Matches\n",
      "Feedback endpoint response time (s): 0.767358\n"
     ]
    }
   ],
   "source": [
    "# incorrect inbound_id\n",
    "feedback_endpoint_test(\n",
    "    inbound_id=0,\n",
    "    feedback_secret_key=feedback_secret_key,\n",
    "    feedback={\"feedback_type\": \"positive\", \"faq_id\": 0}, # or \"page_number\": 0\n",
    ")"
   ]
  },
  {
   "cell_type": "code",
   "execution_count": 11,
   "metadata": {},
   "outputs": [
    {
     "name": "stdout",
     "output_type": "stream",
     "text": [
      "Feedback call response: Incorrect Feedback Secret Key\n",
      "Feedback endpoint response time (s): 0.767358\n"
     ]
    }
   ],
   "source": [
    "# incorrect feedback_secret_key\n",
    "feedback_endpoint_test(\n",
    "    inbound_id=inbound_id,\n",
    "    feedback_secret_key=\"abcdefg\",\n",
    "    feedback={\"feedback_type\": \"positive\", \"faq_id\": 0}, # or \"page_number\": 0\n",
    ")"
   ]
  },
  {
   "cell_type": "markdown",
   "metadata": {},
   "source": [
    "# Test pagination \n",
    "#### inbound/inbound_id/page_number"
   ]
  },
  {
   "cell_type": "markdown",
   "metadata": {},
   "source": [
    "There are two approaches here:\n",
    "1. Jumping to a page using the page number\n",
    "2. Using the next and previous page urls returned by each call to flip through pages"
   ]
  },
  {
   "cell_type": "markdown",
   "metadata": {},
   "source": [
    "## Jump-to-page"
   ]
  },
  {
   "cell_type": "code",
   "execution_count": 13,
   "metadata": {},
   "outputs": [],
   "source": [
    "# Simple function to jump to a page and return content\n",
    "def jump_to_page(page_number, inbound_secret_key):\n",
    "\n",
    "    # call\n",
    "    response = requests.get(\n",
    "        url=host + \"/inbound/\" + inbound_id + \"/\" + str(page_number),\n",
    "        params={\n",
    "            \"inbound_secret_key\": inbound_secret_key\n",
    "        },  #!# params, NOT json. Opposite of other endpoint. #!#\n",
    "        headers={\"Authorization\": bearer_token},\n",
    "    )\n",
    "\n",
    "    # show results\n",
    "    if response.status_code != 200:\n",
    "        print(\"Error:\", response.status_code, response.text)\n",
    "    else:\n",
    "        if response.json()[\"top_responses\"] == []:\n",
    "            print(\"No content.\")\n",
    "        else:\n",
    "            print(\"top response:\", response.json()[\"top_responses\"][0][0])\n",
    "        print(\"check endpoint response time (s):\", response.elapsed.total_seconds())\n",
    "        if \"prev_page_url\" in response.json():\n",
    "            print(\"Previous page url:\", \"found\")\n",
    "        if \"next_page_url\" in response.json():\n",
    "            print(\"Next page:\", \"found\")"
   ]
  },
  {
   "cell_type": "markdown",
   "metadata": {},
   "source": [
    "### Page 1 should match initial call response"
   ]
  },
  {
   "cell_type": "code",
   "execution_count": 14,
   "metadata": {},
   "outputs": [
    {
     "name": "stdout",
     "output_type": "stream",
     "text": [
      "top response: HIV - Testing\n",
      "check endpoint response time (s): 0.664992\n",
      "Next page: found\n"
     ]
    }
   ],
   "source": [
    "jump_to_page(1, inbound_secret_key)"
   ]
  },
  {
   "cell_type": "markdown",
   "metadata": {},
   "source": [
    "### Page 2 should be different"
   ]
  },
  {
   "cell_type": "code",
   "execution_count": 15,
   "metadata": {},
   "outputs": [
    {
     "name": "stdout",
     "output_type": "stream",
     "text": [
      "top response: Support - HIV\n",
      "check endpoint response time (s): 0.686843\n",
      "Previous page url: found\n",
      "Next page: found\n"
     ]
    }
   ],
   "source": [
    "jump_to_page(2, inbound_secret_key)"
   ]
  },
  {
   "cell_type": "markdown",
   "metadata": {},
   "source": [
    "### !!!! Go to non-existing page !!!!\n",
    "Note: Should probably throw an error if a non-existing page is attempted to be accessed? Currently returns empty response but also returns a previous page link (which also can lead to an empty page) but no next page link."
   ]
  },
  {
   "cell_type": "code",
   "execution_count": 18,
   "metadata": {},
   "outputs": [
    {
     "name": "stdout",
     "output_type": "stream",
     "text": [
      "Error: 404 <!DOCTYPE HTML PUBLIC \"-//W3C//DTD HTML 3.2 Final//EN\">\n",
      "<title>404 Not Found</title>\n",
      "<h1>Not Found</h1>\n",
      "<p>The requested URL was not found on the server. If you entered the URL manually please check your spelling and try again.</p>\n",
      "\n"
     ]
    }
   ],
   "source": [
    "jump_to_page(-1, inbound_secret_key)"
   ]
  },
  {
   "cell_type": "code",
   "execution_count": 19,
   "metadata": {},
   "outputs": [
    {
     "name": "stdout",
     "output_type": "stream",
     "text": [
      "No content.\n",
      "check endpoint response time (s): 0.827296\n",
      "Next page: found\n"
     ]
    }
   ],
   "source": [
    "jump_to_page(0, inbound_secret_key)"
   ]
  },
  {
   "cell_type": "code",
   "execution_count": 20,
   "metadata": {},
   "outputs": [
    {
     "name": "stdout",
     "output_type": "stream",
     "text": [
      "No content.\n",
      "check endpoint response time (s): 0.719756\n",
      "Previous page url: found\n"
     ]
    }
   ],
   "source": [
    "jump_to_page(999, inbound_secret_key)"
   ]
  },
  {
   "cell_type": "markdown",
   "metadata": {},
   "source": [
    "## Flip pages (next and previous)"
   ]
  },
  {
   "cell_type": "markdown",
   "metadata": {},
   "source": [
    "### Next page from initial call should be the same as page 2"
   ]
  },
  {
   "cell_type": "code",
   "execution_count": 21,
   "metadata": {},
   "outputs": [
    {
     "name": "stdout",
     "output_type": "stream",
     "text": [
      "top response: Support - HIV\n",
      "check endpoint response time (s): 0.714804\n"
     ]
    }
   ],
   "source": [
    "#### Test pagination endpoint - flip pages\n",
    "response = requests.get(\n",
    "    url=host + initial_next_page_url,\n",
    "    headers={\"Authorization\": bearer_token},\n",
    ")\n",
    "\n",
    "# show results\n",
    "print(\"top response:\", response.json()[\"top_responses\"][0][0])\n",
    "print(\"check endpoint response time (s):\", response.elapsed.total_seconds())"
   ]
  },
  {
   "cell_type": "markdown",
   "metadata": {},
   "source": [
    "### Flip through all available pages"
   ]
  },
  {
   "cell_type": "code",
   "execution_count": 22,
   "metadata": {},
   "outputs": [
    {
     "name": "stdout",
     "output_type": "stream",
     "text": [
      "Page 2\n",
      "top response: Support - HIV\n",
      "check endpoint response time (s): 0.661246\n",
      "Page 3\n",
      "top response: HIV - Symptoms\n",
      "check endpoint response time (s): 0.631793\n",
      "Page 4\n",
      "top response: Preg - Maternity leave\n",
      "check endpoint response time (s): 0.803331\n",
      "Page 5\n",
      "top response: Baby - Growth - Birth to 3 months\n",
      "check endpoint response time (s): 0.685865\n",
      "Page 6\n",
      "top response: Privacy - Who can see my personal\n",
      "check endpoint response time (s): 0.683107\n",
      "Page 7\n",
      "top response: Baby - Returning period\n",
      "check endpoint response time (s): 0.673245\n",
      "Page 8\n",
      "top response: Preg - Position at birth\n",
      "check endpoint response time (s): 0.688149\n",
      "Page 9\n",
      "top response: Preg - Fetal Month 9\n",
      "check endpoint response time (s): 0.680234\n",
      "Page 10\n",
      "top response: HIV - Nevirapine syrup\n",
      "check endpoint response time (s): 0.770041\n",
      "Page 11\n",
      "top response: COVID-19 - Breastfeeding\n",
      "check endpoint response time (s): 0.677768\n",
      "Page 12\n",
      "top response: Labour - Stages\n",
      "check endpoint response time (s): 0.65873\n",
      "Page 13\n",
      "top response: Support - Abortion\n",
      "check endpoint response time (s): 0.802859\n",
      "Page 14\n",
      "top response: COVID-19 - Pregnancy Check-ups\n",
      "check endpoint response time (s): 0.649464\n",
      "Page 15\n",
      "top response: Baby - Water\n",
      "check endpoint response time (s): 0.686215\n",
      "Page 16\n",
      "top response: COVID-19 - Vaccine and getting pregnant\n",
      "check endpoint response time (s): 0.646486\n",
      "Page 17\n",
      "top response: Labour - Premature\n",
      "check endpoint response time (s): 0.759525\n",
      "Page 18\n",
      "top response: COVID-19 - Vaccine benefits\n",
      "check endpoint response time (s): 0.814899\n",
      "Page 19\n",
      "top response: Preg - Poo colour\n",
      "check endpoint response time (s): 0.632376\n",
      "Page 20\n",
      "top response: More Conditions - Bleeding Gums\n",
      "check endpoint response time (s): 0.71942\n",
      "Page 21\n",
      "top response: More Conditions - STIs\n",
      "check endpoint response time (s): 0.646295\n",
      "Page 22\n",
      "top response: Labour - Caesarean section\n",
      "check endpoint response time (s): 0.749924\n",
      "Page 23\n",
      "top response: COVID-19 - Unborn baby and\n",
      "check endpoint response time (s): 0.743949\n",
      "Page 24\n",
      "top response: Baby - Stool changes\n",
      "check endpoint response time (s): 0.673341\n",
      "Page 25\n",
      "top response: Preg - Sleep during pregnancy\n",
      "check endpoint response time (s): 0.731259\n",
      "Page 26\n",
      "top response: More Conditions - TB\n",
      "check endpoint response time (s): 0.725509\n",
      "Page 27\n",
      "top response: Support - Adoption\n",
      "check endpoint response time (s): 0.681285\n",
      "Page 28\n",
      "top response: COVID-19 - Delivery\n",
      "check endpoint response time (s): 0.731247\n",
      "Page 29\n",
      "top response: Baby - Jaundice\n",
      "check endpoint response time (s): 0.709937\n",
      "Page 30\n",
      "top response: Baby - Runny stools\n",
      "check endpoint response time (s): 0.635505\n",
      "Page 31\n",
      "top response: Preg - Toothache\n",
      "check endpoint response time (s): 0.66007\n",
      "Page 32\n",
      "top response: More Conditions - Itching skin\n",
      "check endpoint response time (s): 0.846714\n",
      "Page 33\n",
      "top response: Preg - Heartburn\n",
      "check endpoint response time (s): 0.65428\n",
      "Page 34\n",
      "top response: Support - Drug Abuse\n",
      "check endpoint response time (s): 0.697312\n",
      "ERROR: No next/prev page.\n"
     ]
    }
   ],
   "source": [
    "url = initial_next_page_url\n",
    "page_number = 2\n",
    "\n",
    "while True:\n",
    "\n",
    "    # print current page number\n",
    "    print(\"Page\", page_number)\n",
    "\n",
    "    #### call\n",
    "    response = requests.get(\n",
    "        url=host + url,\n",
    "        headers={\"Authorization\": bearer_token},\n",
    "    )\n",
    "\n",
    "    #### print results\n",
    "    print(\"top response:\", response.json()[\"top_responses\"][0][0])\n",
    "    print(\"check endpoint response time (s):\", response.elapsed.total_seconds())\n",
    "\n",
    "    #### return next/prev page link\n",
    "    # Note: The response will simply not include the next/prev page url field if it\n",
    "    # doesn't exist, resulting in an error if we try to select it from the JSON response.\n",
    "    if \"next_page_url\" in response.json():\n",
    "        url = response.json()[\"next_page_url\"]\n",
    "        page_number += 1\n",
    "    else:\n",
    "        print(\"ERROR: No next/prev page.\")\n",
    "        break"
   ]
  }
 ],
 "metadata": {
  "kernelspec": {
   "display_name": "Python 3.9.12 ('base')",
   "language": "python",
   "name": "python3"
  },
  "language_info": {
   "codemirror_mode": {
    "name": "ipython",
    "version": 3
   },
   "file_extension": ".py",
   "mimetype": "text/x-python",
   "name": "python",
   "nbconvert_exporter": "python",
   "pygments_lexer": "ipython3",
   "version": "3.9.13"
  },
  "orig_nbformat": 4,
  "vscode": {
   "interpreter": {
    "hash": "88345eaf9161b761c796230026db8f082128d7a0c7b518b3106384bf202586c5"
   }
  }
 },
 "nbformat": 4,
 "nbformat_minor": 2
}
